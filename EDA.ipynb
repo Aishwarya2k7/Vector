{
  "nbformat": 4,
  "nbformat_minor": 0,
  "metadata": {
    "colab": {
      "name": "EDA.ipynb",
      "provenance": [],
      "collapsed_sections": [],
      "include_colab_link": true
    },
    "kernelspec": {
      "name": "python3",
      "display_name": "Python 3"
    }
  },
  "cells": [
    {
      "cell_type": "markdown",
      "metadata": {
        "id": "view-in-github",
        "colab_type": "text"
      },
      "source": [
        "<a href=\"https://colab.research.google.com/github/Aishwarya2k7/Vector/blob/master/EDA.ipynb\" target=\"_parent\"><img src=\"https://colab.research.google.com/assets/colab-badge.svg\" alt=\"Open In Colab\"/></a>"
      ]
    },
    {
      "cell_type": "markdown",
      "metadata": {
        "id": "hDKK_15q46Ij"
      },
      "source": [
        "**Exploratory Data Analysis of Video Game Sales.**"
      ]
    },
    {
      "cell_type": "code",
      "metadata": {
        "id": "sZXSCCyI2nVX"
      },
      "source": [
        "#lets keep all imports in this tab\n",
        "\n",
        "import pandas as pd\n"
      ],
      "execution_count": null,
      "outputs": []
    },
    {
      "cell_type": "code",
      "metadata": {
        "id": "ntLPOvRA2jkg"
      },
      "source": [
        "#csv uploaded using url of github account\n",
        "\n",
        "url=\"https://raw.githubusercontent.com/Aishwarya2k7/Vector/master/vgsales.csv\"\n",
        "df = pd.read_csv(url)"
      ],
      "execution_count": null,
      "outputs": []
    },
    {
      "cell_type": "code",
      "metadata": {
        "id": "hFYwxcaA56dJ"
      },
      "source": [
        "#shreya\n"
      ],
      "execution_count": null,
      "outputs": []
    },
    {
      "cell_type": "code",
      "metadata": {
        "id": "2PuCfqJ46SR-"
      },
      "source": [
        "#ranjitha"
      ],
      "execution_count": null,
      "outputs": []
    }
  ]
}