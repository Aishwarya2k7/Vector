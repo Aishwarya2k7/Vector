{
  "nbformat": 4,
  "nbformat_minor": 0,
  "metadata": {
    "colab": {
      "name": "EDA.ipynb",
      "provenance": [],
      "collapsed_sections": [],
      "include_colab_link": true
    },
    "kernelspec": {
      "name": "python3",
      "display_name": "Python 3"
    }
  },
  "cells": [
    {
      "cell_type": "markdown",
      "metadata": {
        "id": "view-in-github",
        "colab_type": "text"
      },
      "source": [
        "<a href=\"https://colab.research.google.com/github/Aishwarya2k7/Vector/blob/master/EDA.ipynb\" target=\"_parent\"><img src=\"https://colab.research.google.com/assets/colab-badge.svg\" alt=\"Open In Colab\"/></a>"
      ]
    },
    {
      "cell_type": "markdown",
      "metadata": {
        "id": "hDKK_15q46Ij"
      },
      "source": [
        "#**Exploratory Data Analysis of Video Game Sales.**"
      ]
    },
    {
      "cell_type": "code",
      "metadata": {
        "id": "sZXSCCyI2nVX"
      },
      "source": [
        "import pandas as pd\n",
        "import numpy as np\n",
        "import matplotlib.pyplot as plt\n",
        "import seaborn as sns\n",
        "from scipy import stats\n",
        "from sklearn.preprocessing import StandardScaler\n",
        "from sklearn.decomposition import PCA"
      ],
      "execution_count": null,
      "outputs": []
    },
    {
      "cell_type": "code",
      "metadata": {
        "id": "ntLPOvRA2jkg"
      },
      "source": [
        "#csv uploaded using url of github account\n",
        "#Source of dataset is kaggle\n",
        "url=\"https://raw.githubusercontent.com/Aishwarya2k7/Vector/master/vgsales.csv\"\n",
        "df1 = pd.read_csv(url)"
      ],
      "execution_count": null,
      "outputs": []
    },
    {
      "cell_type": "markdown",
      "metadata": {
        "id": "KBgL87mSHonp"
      },
      "source": [
        "###**Preprocessing**\n"
      ]
    },
    {
      "cell_type": "code",
      "metadata": {
        "id": "-eCa2IlsH6vk",
        "colab": {
          "base_uri": "https://localhost:8080/"
        },
        "outputId": "09cdf7a3-c87c-4679-97f5-cc23ccd35ce5"
      },
      "source": [
        "df1.shape "
      ],
      "execution_count": null,
      "outputs": [
        {
          "output_type": "execute_result",
          "data": {
            "text/plain": [
              "(16598, 11)"
            ]
          },
          "metadata": {
            "tags": []
          },
          "execution_count": 3
        }
      ]
    },
    {
      "cell_type": "code",
      "metadata": {
        "id": "ttXMLtvsNQ7g",
        "colab": {
          "base_uri": "https://localhost:8080/"
        },
        "outputId": "9289648e-fc63-468c-83ad-ed7ddc802b45"
      },
      "source": [
        "df1.info()"
      ],
      "execution_count": null,
      "outputs": [
        {
          "output_type": "stream",
          "text": [
            "<class 'pandas.core.frame.DataFrame'>\n",
            "RangeIndex: 16598 entries, 0 to 16597\n",
            "Data columns (total 11 columns):\n",
            " #   Column        Non-Null Count  Dtype  \n",
            "---  ------        --------------  -----  \n",
            " 0   Rank          16598 non-null  int64  \n",
            " 1   Name          16598 non-null  object \n",
            " 2   Platform      16598 non-null  object \n",
            " 3   Year          16327 non-null  float64\n",
            " 4   Genre         16598 non-null  object \n",
            " 5   Publisher     16540 non-null  object \n",
            " 6   NA_Sales      16598 non-null  float64\n",
            " 7   EU_Sales      16598 non-null  float64\n",
            " 8   JP_Sales      16598 non-null  float64\n",
            " 9   Other_Sales   16598 non-null  float64\n",
            " 10  Global_Sales  16598 non-null  float64\n",
            "dtypes: float64(6), int64(1), object(4)\n",
            "memory usage: 1.4+ MB\n"
          ],
          "name": "stdout"
        }
      ]
    },
    {
      "cell_type": "code",
      "metadata": {
        "id": "jloMZ8YNIWeV",
        "colab": {
          "base_uri": "https://localhost:8080/",
          "height": 195
        },
        "outputId": "92b3d5b4-3f7b-42d0-8657-e3c84efde2a5"
      },
      "source": [
        "df1.head()"
      ],
      "execution_count": null,
      "outputs": [
        {
          "output_type": "execute_result",
          "data": {
            "text/html": [
              "<div>\n",
              "<style scoped>\n",
              "    .dataframe tbody tr th:only-of-type {\n",
              "        vertical-align: middle;\n",
              "    }\n",
              "\n",
              "    .dataframe tbody tr th {\n",
              "        vertical-align: top;\n",
              "    }\n",
              "\n",
              "    .dataframe thead th {\n",
              "        text-align: right;\n",
              "    }\n",
              "</style>\n",
              "<table border=\"1\" class=\"dataframe\">\n",
              "  <thead>\n",
              "    <tr style=\"text-align: right;\">\n",
              "      <th></th>\n",
              "      <th>Rank</th>\n",
              "      <th>Name</th>\n",
              "      <th>Platform</th>\n",
              "      <th>Year</th>\n",
              "      <th>Genre</th>\n",
              "      <th>Publisher</th>\n",
              "      <th>NA_Sales</th>\n",
              "      <th>EU_Sales</th>\n",
              "      <th>JP_Sales</th>\n",
              "      <th>Other_Sales</th>\n",
              "      <th>Global_Sales</th>\n",
              "    </tr>\n",
              "  </thead>\n",
              "  <tbody>\n",
              "    <tr>\n",
              "      <th>0</th>\n",
              "      <td>1</td>\n",
              "      <td>Wii Sports</td>\n",
              "      <td>Wii</td>\n",
              "      <td>2006.0</td>\n",
              "      <td>Sports</td>\n",
              "      <td>Nintendo</td>\n",
              "      <td>41.49</td>\n",
              "      <td>29.02</td>\n",
              "      <td>3.77</td>\n",
              "      <td>8.46</td>\n",
              "      <td>82.74</td>\n",
              "    </tr>\n",
              "    <tr>\n",
              "      <th>1</th>\n",
              "      <td>2</td>\n",
              "      <td>Super Mario Bros.</td>\n",
              "      <td>NES</td>\n",
              "      <td>1985.0</td>\n",
              "      <td>Platform</td>\n",
              "      <td>Nintendo</td>\n",
              "      <td>29.08</td>\n",
              "      <td>3.58</td>\n",
              "      <td>6.81</td>\n",
              "      <td>0.77</td>\n",
              "      <td>40.24</td>\n",
              "    </tr>\n",
              "    <tr>\n",
              "      <th>2</th>\n",
              "      <td>3</td>\n",
              "      <td>Mario Kart Wii</td>\n",
              "      <td>Wii</td>\n",
              "      <td>2008.0</td>\n",
              "      <td>Racing</td>\n",
              "      <td>Nintendo</td>\n",
              "      <td>15.85</td>\n",
              "      <td>12.88</td>\n",
              "      <td>3.79</td>\n",
              "      <td>3.31</td>\n",
              "      <td>35.82</td>\n",
              "    </tr>\n",
              "    <tr>\n",
              "      <th>3</th>\n",
              "      <td>4</td>\n",
              "      <td>Wii Sports Resort</td>\n",
              "      <td>Wii</td>\n",
              "      <td>2009.0</td>\n",
              "      <td>Sports</td>\n",
              "      <td>Nintendo</td>\n",
              "      <td>15.75</td>\n",
              "      <td>11.01</td>\n",
              "      <td>3.28</td>\n",
              "      <td>2.96</td>\n",
              "      <td>33.00</td>\n",
              "    </tr>\n",
              "    <tr>\n",
              "      <th>4</th>\n",
              "      <td>5</td>\n",
              "      <td>Pokemon Red/Pokemon Blue</td>\n",
              "      <td>GB</td>\n",
              "      <td>1996.0</td>\n",
              "      <td>Role-Playing</td>\n",
              "      <td>Nintendo</td>\n",
              "      <td>11.27</td>\n",
              "      <td>8.89</td>\n",
              "      <td>10.22</td>\n",
              "      <td>1.00</td>\n",
              "      <td>31.37</td>\n",
              "    </tr>\n",
              "  </tbody>\n",
              "</table>\n",
              "</div>"
            ],
            "text/plain": [
              "   Rank                      Name Platform  ...  JP_Sales Other_Sales Global_Sales\n",
              "0     1                Wii Sports      Wii  ...      3.77        8.46        82.74\n",
              "1     2         Super Mario Bros.      NES  ...      6.81        0.77        40.24\n",
              "2     3            Mario Kart Wii      Wii  ...      3.79        3.31        35.82\n",
              "3     4         Wii Sports Resort      Wii  ...      3.28        2.96        33.00\n",
              "4     5  Pokemon Red/Pokemon Blue       GB  ...     10.22        1.00        31.37\n",
              "\n",
              "[5 rows x 11 columns]"
            ]
          },
          "metadata": {
            "tags": []
          },
          "execution_count": 5
        }
      ]
    },
    {
      "cell_type": "code",
      "metadata": {
        "id": "10sbiLXTJCUE",
        "colab": {
          "base_uri": "https://localhost:8080/"
        },
        "outputId": "6b797e9f-e4d5-4ba2-f18e-2c11b2ef5680"
      },
      "source": [
        "df1.isnull().sum() "
      ],
      "execution_count": null,
      "outputs": [
        {
          "output_type": "execute_result",
          "data": {
            "text/plain": [
              "Rank              0\n",
              "Name              0\n",
              "Platform          0\n",
              "Year            271\n",
              "Genre             0\n",
              "Publisher        58\n",
              "NA_Sales          0\n",
              "EU_Sales          0\n",
              "JP_Sales          0\n",
              "Other_Sales       0\n",
              "Global_Sales      0\n",
              "dtype: int64"
            ]
          },
          "metadata": {
            "tags": []
          },
          "execution_count": 6
        }
      ]
    },
    {
      "cell_type": "code",
      "metadata": {
        "id": "3UtSe2irJbHn",
        "colab": {
          "base_uri": "https://localhost:8080/"
        },
        "outputId": "6a7b85f2-1d9d-4976-f708-1e60ac3ba860"
      },
      "source": [
        "df1.duplicated().sum()\n"
      ],
      "execution_count": null,
      "outputs": [
        {
          "output_type": "execute_result",
          "data": {
            "text/plain": [
              "0"
            ]
          },
          "metadata": {
            "tags": []
          },
          "execution_count": 7
        }
      ]
    },
    {
      "cell_type": "markdown",
      "metadata": {
        "id": "Fch-I-TYuoD4"
      },
      "source": [
        "###**Handling Of Missing Values**"
      ]
    },
    {
      "cell_type": "code",
      "metadata": {
        "id": "rzFFbQMnaRDS"
      },
      "source": [
        "df1[\"Publisher\"].fillna(\"Unknown\", inplace = True) #Missing publisher data points are filled with UNKNOWN value\n"
      ],
      "execution_count": null,
      "outputs": []
    },
    {
      "cell_type": "code",
      "metadata": {
        "id": "xIww8Qv_axPc",
        "colab": {
          "base_uri": "https://localhost:8080/"
        },
        "outputId": "a02ea595-302a-4431-941a-e6f064ffdf21"
      },
      "source": [
        "df1.isnull().sum()"
      ],
      "execution_count": null,
      "outputs": [
        {
          "output_type": "execute_result",
          "data": {
            "text/plain": [
              "Rank              0\n",
              "Name              0\n",
              "Platform          0\n",
              "Year            271\n",
              "Genre             0\n",
              "Publisher         0\n",
              "NA_Sales          0\n",
              "EU_Sales          0\n",
              "JP_Sales          0\n",
              "Other_Sales       0\n",
              "Global_Sales      0\n",
              "dtype: int64"
            ]
          },
          "metadata": {
            "tags": []
          },
          "execution_count": 9
        }
      ]
    },
    {
      "cell_type": "code",
      "metadata": {
        "id": "tkVGOeafMPzL"
      },
      "source": [
        "df1 = df1.dropna() #Dropping the rows with missing years"
      ],
      "execution_count": null,
      "outputs": []
    },
    {
      "cell_type": "code",
      "metadata": {
        "id": "Kr-dKoZdMy75",
        "colab": {
          "base_uri": "https://localhost:8080/"
        },
        "outputId": "3d592e67-6676-49f0-a6c5-c5e009894430"
      },
      "source": [
        "df1.isnull().sum()"
      ],
      "execution_count": null,
      "outputs": [
        {
          "output_type": "execute_result",
          "data": {
            "text/plain": [
              "Rank            0\n",
              "Name            0\n",
              "Platform        0\n",
              "Year            0\n",
              "Genre           0\n",
              "Publisher       0\n",
              "NA_Sales        0\n",
              "EU_Sales        0\n",
              "JP_Sales        0\n",
              "Other_Sales     0\n",
              "Global_Sales    0\n",
              "dtype: int64"
            ]
          },
          "metadata": {
            "tags": []
          },
          "execution_count": 11
        }
      ]
    },
    {
      "cell_type": "markdown",
      "metadata": {
        "id": "OHNdJR73vLH7"
      },
      "source": [
        "### **Sampling of the Dataset**"
      ]
    },
    {
      "cell_type": "code",
      "metadata": {
        "id": "7JYBjIkqPjq2"
      },
      "source": [
        "#sample csv uploaded using url of github account\n",
        "#sampled from the preprocessed dataset seen previously\n",
        "sample_url=\"https://raw.githubusercontent.com/Aishwarya2k7/Vector/master/sample_vgsales.csv\"\n",
        "df = pd.read_csv(sample_url)"
      ],
      "execution_count": null,
      "outputs": []
    },
    {
      "cell_type": "code",
      "metadata": {
        "id": "OOZpVNF3JtCg",
        "colab": {
          "base_uri": "https://localhost:8080/"
        },
        "outputId": "875abc2b-d449-4e28-af8f-f6c06f133831"
      },
      "source": [
        "df.shape"
      ],
      "execution_count": null,
      "outputs": [
        {
          "output_type": "execute_result",
          "data": {
            "text/plain": [
              "(1067, 11)"
            ]
          },
          "metadata": {
            "tags": []
          },
          "execution_count": 13
        }
      ]
    },
    {
      "cell_type": "code",
      "metadata": {
        "id": "FD5_VwFXVu4a",
        "colab": {
          "base_uri": "https://localhost:8080/"
        },
        "outputId": "7e9e0937-d85c-4403-a41a-67fb722e7d87"
      },
      "source": [
        "df['Year'].value_counts() #the counts of unique values will be in descending order so \n",
        "#that the first element is the most frequently-occurring element. Excludes NA values by default."
      ],
      "execution_count": null,
      "outputs": [
        {
          "output_type": "execute_result",
          "data": {
            "text/plain": [
              "2009.0    107\n",
              "2008.0     91\n",
              "2011.0     81\n",
              "2006.0     75\n",
              "2007.0     74\n",
              "2010.0     70\n",
              "2005.0     64\n",
              "2013.0     51\n",
              "2003.0     47\n",
              "2002.0     43\n",
              "2014.0     43\n",
              "2012.0     42\n",
              "2004.0     34\n",
              "2001.0     32\n",
              "2015.0     30\n",
              "2000.0     29\n",
              "1998.0     28\n",
              "1999.0     28\n",
              "1997.0     20\n",
              "1996.0     20\n",
              "2016.0     16\n",
              "1994.0     11\n",
              "1995.0      7\n",
              "1992.0      5\n",
              "1993.0      4\n",
              "1981.0      3\n",
              "1980.0      3\n",
              "1988.0      2\n",
              "1990.0      2\n",
              "1989.0      2\n",
              "1986.0      1\n",
              "1987.0      1\n",
              "1991.0      1\n",
              "Name: Year, dtype: int64"
            ]
          },
          "metadata": {
            "tags": []
          },
          "execution_count": 14
        }
      ]
    },
    {
      "cell_type": "code",
      "metadata": {
        "id": "zyxqIRjgNYyw",
        "colab": {
          "base_uri": "https://localhost:8080/",
          "height": 284
        },
        "outputId": "cd5365b2-67f9-4e92-e89b-cd69e3d7696c"
      },
      "source": [
        "df.describe() #summary of statistics of numerical columns"
      ],
      "execution_count": null,
      "outputs": [
        {
          "output_type": "execute_result",
          "data": {
            "text/html": [
              "<div>\n",
              "<style scoped>\n",
              "    .dataframe tbody tr th:only-of-type {\n",
              "        vertical-align: middle;\n",
              "    }\n",
              "\n",
              "    .dataframe tbody tr th {\n",
              "        vertical-align: top;\n",
              "    }\n",
              "\n",
              "    .dataframe thead th {\n",
              "        text-align: right;\n",
              "    }\n",
              "</style>\n",
              "<table border=\"1\" class=\"dataframe\">\n",
              "  <thead>\n",
              "    <tr style=\"text-align: right;\">\n",
              "      <th></th>\n",
              "      <th>Rank</th>\n",
              "      <th>Year</th>\n",
              "      <th>NA_Sales</th>\n",
              "      <th>EU_Sales</th>\n",
              "      <th>JP_Sales</th>\n",
              "      <th>Other_Sales</th>\n",
              "      <th>Global_Sales</th>\n",
              "    </tr>\n",
              "  </thead>\n",
              "  <tbody>\n",
              "    <tr>\n",
              "      <th>count</th>\n",
              "      <td>1067.000000</td>\n",
              "      <td>1067.00000</td>\n",
              "      <td>1067.000000</td>\n",
              "      <td>1067.000000</td>\n",
              "      <td>1067.000000</td>\n",
              "      <td>1067.000000</td>\n",
              "      <td>1067.000000</td>\n",
              "    </tr>\n",
              "    <tr>\n",
              "      <th>mean</th>\n",
              "      <td>8163.926898</td>\n",
              "      <td>2006.39925</td>\n",
              "      <td>0.267282</td>\n",
              "      <td>0.157732</td>\n",
              "      <td>0.081687</td>\n",
              "      <td>0.051406</td>\n",
              "      <td>0.558463</td>\n",
              "    </tr>\n",
              "    <tr>\n",
              "      <th>std</th>\n",
              "      <td>4853.047962</td>\n",
              "      <td>5.79690</td>\n",
              "      <td>0.614339</td>\n",
              "      <td>0.430187</td>\n",
              "      <td>0.340763</td>\n",
              "      <td>0.140215</td>\n",
              "      <td>1.263793</td>\n",
              "    </tr>\n",
              "    <tr>\n",
              "      <th>min</th>\n",
              "      <td>13.000000</td>\n",
              "      <td>1980.00000</td>\n",
              "      <td>0.000000</td>\n",
              "      <td>0.000000</td>\n",
              "      <td>0.000000</td>\n",
              "      <td>0.000000</td>\n",
              "      <td>0.010000</td>\n",
              "    </tr>\n",
              "    <tr>\n",
              "      <th>25%</th>\n",
              "      <td>3779.000000</td>\n",
              "      <td>2003.00000</td>\n",
              "      <td>0.000000</td>\n",
              "      <td>0.000000</td>\n",
              "      <td>0.000000</td>\n",
              "      <td>0.000000</td>\n",
              "      <td>0.060000</td>\n",
              "    </tr>\n",
              "    <tr>\n",
              "      <th>50%</th>\n",
              "      <td>8147.000000</td>\n",
              "      <td>2007.00000</td>\n",
              "      <td>0.080000</td>\n",
              "      <td>0.030000</td>\n",
              "      <td>0.000000</td>\n",
              "      <td>0.010000</td>\n",
              "      <td>0.180000</td>\n",
              "    </tr>\n",
              "    <tr>\n",
              "      <th>75%</th>\n",
              "      <td>12416.000000</td>\n",
              "      <td>2010.00000</td>\n",
              "      <td>0.250000</td>\n",
              "      <td>0.120000</td>\n",
              "      <td>0.040000</td>\n",
              "      <td>0.040000</td>\n",
              "      <td>0.530000</td>\n",
              "    </tr>\n",
              "    <tr>\n",
              "      <th>max</th>\n",
              "      <td>16537.000000</td>\n",
              "      <td>2016.00000</td>\n",
              "      <td>9.000000</td>\n",
              "      <td>6.420000</td>\n",
              "      <td>7.200000</td>\n",
              "      <td>1.680000</td>\n",
              "      <td>23.100000</td>\n",
              "    </tr>\n",
              "  </tbody>\n",
              "</table>\n",
              "</div>"
            ],
            "text/plain": [
              "               Rank        Year  ...  Other_Sales  Global_Sales\n",
              "count   1067.000000  1067.00000  ...  1067.000000   1067.000000\n",
              "mean    8163.926898  2006.39925  ...     0.051406      0.558463\n",
              "std     4853.047962     5.79690  ...     0.140215      1.263793\n",
              "min       13.000000  1980.00000  ...     0.000000      0.010000\n",
              "25%     3779.000000  2003.00000  ...     0.000000      0.060000\n",
              "50%     8147.000000  2007.00000  ...     0.010000      0.180000\n",
              "75%    12416.000000  2010.00000  ...     0.040000      0.530000\n",
              "max    16537.000000  2016.00000  ...     1.680000     23.100000\n",
              "\n",
              "[8 rows x 7 columns]"
            ]
          },
          "metadata": {
            "tags": []
          },
          "execution_count": 15
        }
      ]
    },
    {
      "cell_type": "code",
      "metadata": {
        "colab": {
          "base_uri": "https://localhost:8080/"
        },
        "id": "t_-QLPy6gunz",
        "outputId": "bc018510-e55a-4ec5-82bb-01ff7a1c1c45"
      },
      "source": [
        "\n",
        "# total number of rows and unique rows are not same. Same title must have been released for different platform\n",
        "len(df1.Name.unique())"
      ],
      "execution_count": null,
      "outputs": [
        {
          "output_type": "execute_result",
          "data": {
            "text/plain": [
              "11360"
            ]
          },
          "metadata": {
            "tags": []
          },
          "execution_count": 18
        }
      ]
    },
    {
      "cell_type": "code",
      "metadata": {
        "id": "4I6cQzF-OXKk",
        "colab": {
          "base_uri": "https://localhost:8080/"
        },
        "outputId": "9af70749-7991-428f-b6c7-a7e5f535c9bf"
      },
      "source": [
        "df['Platform'].unique() #all unique platforms in the sample dataframe"
      ],
      "execution_count": null,
      "outputs": [
        {
          "output_type": "execute_result",
          "data": {
            "text/plain": [
              "array(['PS2', 'PSP', 'PS4', '3DS', 'DS', 'X360', 'Wii', 'PS3', 'PC', 'GB',\n",
              "       'GBA', 'XB', 'WiiU', 'N64', 'SNES', 'SAT', 'PSV', 'GC', 'PS',\n",
              "       'XOne', '2600', 'SCD', 'NES', 'DC', 'GG', 'GEN'], dtype=object)"
            ]
          },
          "metadata": {
            "tags": []
          },
          "execution_count": 19
        }
      ]
    },
    {
      "cell_type": "code",
      "metadata": {
        "id": "cqOD3jwlOch6",
        "colab": {
          "base_uri": "https://localhost:8080/"
        },
        "outputId": "cdfcc0b0-74f3-49f2-a05a-e2d8aa8b1173"
      },
      "source": [
        "df['Genre'].unique() #all unique Genres in the sample dataframe"
      ],
      "execution_count": null,
      "outputs": [
        {
          "output_type": "execute_result",
          "data": {
            "text/plain": [
              "array(['Strategy', 'Sports', 'Adventure', 'Action', 'Puzzle', 'Misc',\n",
              "       'Simulation', 'Racing', 'Role-Playing', 'Platform', 'Fighting',\n",
              "       'Shooter'], dtype=object)"
            ]
          },
          "metadata": {
            "tags": []
          },
          "execution_count": 20
        }
      ]
    },
    {
      "cell_type": "code",
      "metadata": {
        "id": "dxtqgNfPOrA3",
        "colab": {
          "base_uri": "https://localhost:8080/"
        },
        "outputId": "86610af7-df10-4b08-be2b-9405d3539922"
      },
      "source": [
        "df['Platform'].value_counts() #PS2 is the most frequently used platform, followed by DS"
      ],
      "execution_count": null,
      "outputs": [
        {
          "output_type": "execute_result",
          "data": {
            "text/plain": [
              "PS2     160\n",
              "DS      134\n",
              "PS       98\n",
              "PS3      85\n",
              "X360     84\n",
              "Wii      78\n",
              "PSP      69\n",
              "PC       67\n",
              "XB       42\n",
              "GBA      39\n",
              "3DS      36\n",
              "GC       32\n",
              "PSV      32\n",
              "XOne     21\n",
              "PS4      18\n",
              "N64      15\n",
              "SNES     14\n",
              "2600      8\n",
              "GB        8\n",
              "SAT       8\n",
              "WiiU      6\n",
              "NES       5\n",
              "SCD       3\n",
              "DC        3\n",
              "GG        1\n",
              "GEN       1\n",
              "Name: Platform, dtype: int64"
            ]
          },
          "metadata": {
            "tags": []
          },
          "execution_count": 21
        }
      ]
    },
    {
      "cell_type": "code",
      "metadata": {
        "id": "W8ezjlVUO3aV",
        "colab": {
          "base_uri": "https://localhost:8080/"
        },
        "outputId": "c1b59fd0-e344-429e-eca0-9040de70f89f"
      },
      "source": [
        "df['Publisher'].value_counts() #Electronic Arts is the most frequent publisher seen in this dataframe"
      ],
      "execution_count": null,
      "outputs": [
        {
          "output_type": "execute_result",
          "data": {
            "text/plain": [
              "Electronic Arts                 78\n",
              "Activision                      60\n",
              "Sony Computer Entertainment     59\n",
              "Namco Bandai Games              56\n",
              "Konami Digital Entertainment    54\n",
              "                                ..\n",
              "Media Works                      1\n",
              "Princess Soft                    1\n",
              "Yamasa Entertainment             1\n",
              "Starfish                         1\n",
              "Oxygen Interactive               1\n",
              "Name: Publisher, Length: 184, dtype: int64"
            ]
          },
          "metadata": {
            "tags": []
          },
          "execution_count": 22
        }
      ]
    },
    {
      "cell_type": "code",
      "metadata": {
        "id": "KehzTXw5NbSV",
        "colab": {
          "base_uri": "https://localhost:8080/"
        },
        "outputId": "d37f938f-d1d3-438d-d3ea-4c7e13506ec4"
      },
      "source": [
        "df['Genre'].value_counts() #Action is the most frequent genre seen in this dataframe"
      ],
      "execution_count": null,
      "outputs": [
        {
          "output_type": "execute_result",
          "data": {
            "text/plain": [
              "Action          204\n",
              "Sports          144\n",
              "Misc            111\n",
              "Role-Playing     94\n",
              "Shooter          94\n",
              "Adventure        86\n",
              "Racing           80\n",
              "Platform         62\n",
              "Simulation       58\n",
              "Strategy         54\n",
              "Fighting         45\n",
              "Puzzle           35\n",
              "Name: Genre, dtype: int64"
            ]
          },
          "metadata": {
            "tags": []
          },
          "execution_count": 23
        }
      ]
    },
    {
      "cell_type": "markdown",
      "metadata": {
        "id": "0n7fdTxoQBu1"
      },
      "source": [
        "### **Outlier Detection**"
      ]
    },
    {
      "cell_type": "markdown",
      "metadata": {
        "id": "kGB51q5HzV55"
      },
      "source": [
        "\n",
        "#### The following boxplot visualizes the possible outliers in individual columns. since it is the sales data columns we chose to keep the outliers "
      ]
    },
    {
      "cell_type": "code",
      "metadata": {
        "id": "GgxIxUA8QFT-",
        "colab": {
          "base_uri": "https://localhost:8080/",
          "height": 283
        },
        "outputId": "c46c4eca-4aa8-4666-ff6e-40db9423e782"
      },
      "source": [
        "df.boxplot(column=['NA_Sales'])"
      ],
      "execution_count": null,
      "outputs": [
        {
          "output_type": "execute_result",
          "data": {
            "text/plain": [
              "<matplotlib.axes._subplots.AxesSubplot at 0x7ffa6fac0400>"
            ]
          },
          "metadata": {
            "tags": []
          },
          "execution_count": 24
        },
        {
          "output_type": "display_data",
          "data": {
            "image/png": "[encoded data removed]",
            "text/plain": [
              "<Figure size 432x288 with 1 Axes>"
            ]
          },
          "metadata": {
            "tags": [],
            "needs_background": "light"
          }
        }
      ]
    },
    {
      "cell_type": "code",
      "metadata": {
        "id": "ZdVCNu2YRY0a",
        "colab": {
          "base_uri": "https://localhost:8080/",
          "height": 437
        },
        "outputId": "183ed3d1-3f6c-4193-e211-602f419b15ee"
      },
      "source": [
        "df['EU_Sales'].plot(kind=\"box\",vert=False,figsize=(35,10))"
      ],
      "execution_count": null,
      "outputs": [
        {
          "output_type": "execute_result",
          "data": {
            "text/plain": [
              "<matplotlib.axes._subplots.AxesSubplot at 0x7ffa6f9f2208>"
            ]
          },
          "metadata": {
            "tags": []
          },
          "execution_count": 25
        },
        {
          "output_type": "display_data",
          "data": {
            "image/png": "[encoded data removed]",
            "text/plain": [
              "<Figure size 2520x720 with 1 Axes>"
            ]
          },
          "metadata": {
            "tags": [],
            "needs_background": "light"
          }
        }
      ]
    },
    {
      "cell_type": "code",
      "metadata": {
        "id": "WyMU--edZlYY",
        "colab": {
          "base_uri": "https://localhost:8080/",
          "height": 438
        },
        "outputId": "d4b35e7f-b6de-442d-bf8c-298bf298ee25"
      },
      "source": [
        "df['JP_Sales'].plot(kind=\"box\",vert=False,figsize=(35,10))"
      ],
      "execution_count": null,
      "outputs": [
        {
          "output_type": "execute_result",
          "data": {
            "text/plain": [
              "<matplotlib.axes._subplots.AxesSubplot at 0x7ffa6f52c6a0>"
            ]
          },
          "metadata": {
            "tags": []
          },
          "execution_count": 26
        },
        {
          "output_type": "display_data",
          "data": {
            "image/png": "[encoded data removed]",
            "text/plain": [
              "<Figure size 2520x720 with 1 Axes>"
            ]
          },
          "metadata": {
            "tags": [],
            "needs_background": "light"
          }
        }
      ]
    },
    {
      "cell_type": "code",
      "metadata": {
        "id": "xyX1DDIWZtFc",
        "colab": {
          "base_uri": "https://localhost:8080/",
          "height": 434
        },
        "outputId": "b925d3b4-45a4-4282-8263-ac09fffad7a4"
      },
      "source": [
        "df['Other_Sales'].plot(kind=\"box\",vert=False,figsize=(35,10))"
      ],
      "execution_count": null,
      "outputs": [
        {
          "output_type": "execute_result",
          "data": {
            "text/plain": [
              "<matplotlib.axes._subplots.AxesSubplot at 0x7ffa6f4990f0>"
            ]
          },
          "metadata": {
            "tags": []
          },
          "execution_count": 27
        },
        {
          "output_type": "display_data",
          "data": {
            "image/png": "[encoded data removed]",
            "text/plain": [
              "<Figure size 2520x720 with 1 Axes>"
            ]
          },
          "metadata": {
            "tags": [],
            "needs_background": "light"
          }
        }
      ]
    },
    {
      "cell_type": "code",
      "metadata": {
        "id": "6ZgMxE2iVDnj",
        "colab": {
          "base_uri": "https://localhost:8080/",
          "height": 433
        },
        "outputId": "7c8e9f7e-5507-4761-fd76-27fc0f67abf0"
      },
      "source": [
        "df['Global_Sales'].plot(kind=\"box\",vert=False,figsize=(35,10))"
      ],
      "execution_count": null,
      "outputs": [
        {
          "output_type": "execute_result",
          "data": {
            "text/plain": [
              "<matplotlib.axes._subplots.AxesSubplot at 0x7ffa6f52c668>"
            ]
          },
          "metadata": {
            "tags": []
          },
          "execution_count": 28
        },
        {
          "output_type": "display_data",
          "data": {
            "image/png": "[encoded data removed]",
            "text/plain": [
              "<Figure size 2520x720 with 1 Axes>"
            ]
          },
          "metadata": {
            "tags": [],
            "needs_background": "light"
          }
        }
      ]
    },
    {
      "cell_type": "markdown",
      "metadata": {
        "id": "hVmItDG9Xr7k"
      },
      "source": [
        "###**Correlation**"
      ]
    },
    {
      "cell_type": "markdown",
      "metadata": {
        "id": "Wnlo9kgZ0A7P"
      },
      "source": [
        "####Correlation depicts the statistical relationship between two variables.\n",
        "The below table shows the pearson correlation coefficients between each of the numerical variables."
      ]
    },
    {
      "cell_type": "code",
      "metadata": {
        "id": "45q8dAipXuoY",
        "colab": {
          "base_uri": "https://localhost:8080/",
          "height": 254
        },
        "outputId": "b7c1544d-0376-4fad-f642-705639c3699f"
      },
      "source": [
        "df.corr(method='pearson')"
      ],
      "execution_count": null,
      "outputs": [
        {
          "output_type": "execute_result",
          "data": {
            "text/html": [
              "<div>\n",
              "<style scoped>\n",
              "    .dataframe tbody tr th:only-of-type {\n",
              "        vertical-align: middle;\n",
              "    }\n",
              "\n",
              "    .dataframe tbody tr th {\n",
              "        vertical-align: top;\n",
              "    }\n",
              "\n",
              "    .dataframe thead th {\n",
              "        text-align: right;\n",
              "    }\n",
              "</style>\n",
              "<table border=\"1\" class=\"dataframe\">\n",
              "  <thead>\n",
              "    <tr style=\"text-align: right;\">\n",
              "      <th></th>\n",
              "      <th>Rank</th>\n",
              "      <th>Year</th>\n",
              "      <th>NA_Sales</th>\n",
              "      <th>EU_Sales</th>\n",
              "      <th>JP_Sales</th>\n",
              "      <th>Other_Sales</th>\n",
              "      <th>Global_Sales</th>\n",
              "    </tr>\n",
              "  </thead>\n",
              "  <tbody>\n",
              "    <tr>\n",
              "      <th>Rank</th>\n",
              "      <td>1.000000</td>\n",
              "      <td>0.180344</td>\n",
              "      <td>-0.526403</td>\n",
              "      <td>-0.466941</td>\n",
              "      <td>-0.254980</td>\n",
              "      <td>-0.467253</td>\n",
              "      <td>-0.534926</td>\n",
              "    </tr>\n",
              "    <tr>\n",
              "      <th>Year</th>\n",
              "      <td>0.180344</td>\n",
              "      <td>1.000000</td>\n",
              "      <td>-0.132622</td>\n",
              "      <td>-0.022410</td>\n",
              "      <td>-0.162982</td>\n",
              "      <td>0.032905</td>\n",
              "      <td>-0.112296</td>\n",
              "    </tr>\n",
              "    <tr>\n",
              "      <th>NA_Sales</th>\n",
              "      <td>-0.526403</td>\n",
              "      <td>-0.132622</td>\n",
              "      <td>1.000000</td>\n",
              "      <td>0.715413</td>\n",
              "      <td>0.465751</td>\n",
              "      <td>0.607514</td>\n",
              "      <td>0.922671</td>\n",
              "    </tr>\n",
              "    <tr>\n",
              "      <th>EU_Sales</th>\n",
              "      <td>-0.466941</td>\n",
              "      <td>-0.022410</td>\n",
              "      <td>0.715413</td>\n",
              "      <td>1.000000</td>\n",
              "      <td>0.430624</td>\n",
              "      <td>0.628406</td>\n",
              "      <td>0.874074</td>\n",
              "    </tr>\n",
              "    <tr>\n",
              "      <th>JP_Sales</th>\n",
              "      <td>-0.254980</td>\n",
              "      <td>-0.162982</td>\n",
              "      <td>0.465751</td>\n",
              "      <td>0.430624</td>\n",
              "      <td>1.000000</td>\n",
              "      <td>0.198575</td>\n",
              "      <td>0.664571</td>\n",
              "    </tr>\n",
              "    <tr>\n",
              "      <th>Other_Sales</th>\n",
              "      <td>-0.467253</td>\n",
              "      <td>0.032905</td>\n",
              "      <td>0.607514</td>\n",
              "      <td>0.628406</td>\n",
              "      <td>0.198575</td>\n",
              "      <td>1.000000</td>\n",
              "      <td>0.673559</td>\n",
              "    </tr>\n",
              "    <tr>\n",
              "      <th>Global_Sales</th>\n",
              "      <td>-0.534926</td>\n",
              "      <td>-0.112296</td>\n",
              "      <td>0.922671</td>\n",
              "      <td>0.874074</td>\n",
              "      <td>0.664571</td>\n",
              "      <td>0.673559</td>\n",
              "      <td>1.000000</td>\n",
              "    </tr>\n",
              "  </tbody>\n",
              "</table>\n",
              "</div>"
            ],
            "text/plain": [
              "                  Rank      Year  NA_Sales  ...  JP_Sales  Other_Sales  Global_Sales\n",
              "Rank          1.000000  0.180344 -0.526403  ... -0.254980    -0.467253     -0.534926\n",
              "Year          0.180344  1.000000 -0.132622  ... -0.162982     0.032905     -0.112296\n",
              "NA_Sales     -0.526403 -0.132622  1.000000  ...  0.465751     0.607514      0.922671\n",
              "EU_Sales     -0.466941 -0.022410  0.715413  ...  0.430624     0.628406      0.874074\n",
              "JP_Sales     -0.254980 -0.162982  0.465751  ...  1.000000     0.198575      0.664571\n",
              "Other_Sales  -0.467253  0.032905  0.607514  ...  0.198575     1.000000      0.673559\n",
              "Global_Sales -0.534926 -0.112296  0.922671  ...  0.664571     0.673559      1.000000\n",
              "\n",
              "[7 rows x 7 columns]"
            ]
          },
          "metadata": {
            "tags": []
          },
          "execution_count": 29
        }
      ]
    },
    {
      "cell_type": "markdown",
      "metadata": {
        "id": "khRFMbhV0hdy"
      },
      "source": [
        "####From the heatmap below we can find out that the highest correlation is between Global_Sales and NA_Sales(0.92).Overall it appears that Global_Sales has high correlation with other sales columns.  "
      ]
    },
    {
      "cell_type": "code",
      "metadata": {
        "id": "-TLte300Z1yt",
        "colab": {
          "base_uri": "https://localhost:8080/",
          "height": 323
        },
        "outputId": "b1336cae-5ee4-49f4-8231-dd44ba3961e6"
      },
      "source": [
        "corrMatrix = df.corr()\n",
        "sns.heatmap(corrMatrix, annot=True)\n",
        "plt.show()"
      ],
      "execution_count": null,
      "outputs": [
        {
          "output_type": "display_data",
          "data": {
            "image/png": "[encoded data removed]",
            "text/plain": [
              "<Figure size 432x288 with 2 Axes>"
            ]
          },
          "metadata": {
            "tags": [],
            "needs_background": "light"
          }
        }
      ]
    },
    {
      "cell_type": "markdown",
      "metadata": {
        "id": "x_1mWkawcWZy"
      },
      "source": [
        "#**VISUALIZATIONS**"
      ]
    },
    {
      "cell_type": "code",
      "metadata": {
        "id": "6FJkp2YzUISq",
        "colab": {
          "base_uri": "https://localhost:8080/",
          "height": 492
        },
        "outputId": "555a698f-961c-4b8f-e68d-c54f31bbcd7f"
      },
      "source": [
        "plt.figure(figsize=(15,8))\n",
        "a= df['Genre'].value_counts()\n",
        "genre = a.index\n",
        "count = a.values\n",
        "plt.pie(count, labels=genre,autopct='%1.1f%%')\n",
        "plt.xlabel('GENRES',fontsize=20)\n",
        "plt.axis('equal')\n",
        "plt.show()"
      ],
      "execution_count": null,
      "outputs": [
        {
          "output_type": "display_data",
          "data": {
            "image/png": "[encoded data removed]",
            "text/plain": [
              "<Figure size 1080x576 with 1 Axes>"
            ]
          },
          "metadata": {
            "tags": []
          }
        }
      ]
    },
    {
      "cell_type": "markdown",
      "metadata": {
        "id": "t6JV5AMP1cac"
      },
      "source": [
        "####The pie chart depicts that there are 12 unique genres and the maximum area is taken by the \"Action\" genre followed by \"Sports\" and \"miscellanious\"."
      ]
    },
    {
      "cell_type": "code",
      "metadata": {
        "id": "m5pw_FGWokQC",
        "colab": {
          "base_uri": "https://localhost:8080/",
          "height": 642
        },
        "outputId": "2705a602-355b-4efe-ab9a-a23e7aa9efdb"
      },
      "source": [
        "df['Genre'].unique()\n",
        "df2 = df.groupby(['Genre']) \n",
        "val = df2['NA_Sales','EU_Sales','JP_Sales','Other_Sales'].aggregate(np.mean)\n",
        "val.plot(kind='bar',figsize=(20,8), color=['b', 'k', 'm', 'r'], stacked=True)\n",
        "plt.xlabel('Genre',fontsize=16)\n",
        "plt.ylabel('Sale of games in each region',fontsize=16)\n",
        "plt.title('Sales as per the Genre', fontsize=16)"
      ],
      "execution_count": null,
      "outputs": [
        {
          "output_type": "stream",
          "text": [
            "/usr/local/lib/python3.6/dist-packages/ipykernel_launcher.py:3: FutureWarning: Indexing with multiple keys (implicitly converted to a tuple of keys) will be deprecated, use a list instead.\n",
            "  This is separate from the ipykernel package so we can avoid doing imports until\n"
          ],
          "name": "stderr"
        },
        {
          "output_type": "execute_result",
          "data": {
            "text/plain": [
              "Text(0.5, 1.0, 'Sales as per the Genre')"
            ]
          },
          "metadata": {
            "tags": []
          },
          "execution_count": 32
        },
        {
          "output_type": "display_data",
          "data": {
            "image/png": "[encoded data removed]",
            "text/plain": [
              "<Figure size 1440x576 with 1 Axes>"
            ]
          },
          "metadata": {
            "tags": [],
            "needs_background": "light"
          }
        }
      ]
    },
    {
      "cell_type": "markdown",
      "metadata": {
        "id": "5dXG9n1U4c09"
      },
      "source": [
        "## ####The Shooter genre is most popular in North America compared to all other regions and the least popular in Japan. Racing is the most popular genre within Europe. The Role-Playing genre is the most famous genre in Japan and North America. Racing genre appears to have the heighest sales among \"Other_Sales\"."
      ]
    },
    {
      "cell_type": "code",
      "metadata": {
        "id": "A1ZyX4ISsSFs",
        "colab": {
          "base_uri": "https://localhost:8080/",
          "height": 606
        },
        "outputId": "b25ac402-6b7f-494d-e8c5-0e00201ca192"
      },
      "source": [
        "df['Platform'].unique()\n",
        "df3 = df.groupby(['Platform'])\n",
        "val = df3['NA_Sales','EU_Sales','JP_Sales','Other_Sales'].aggregate(np.mean)\n",
        "val.plot(kind='bar',figsize=(24,8), stacked=True)\n",
        "plt.xlabel('Platform',fontsize=16)\n",
        "plt.ylabel('Sale of games in each region',fontsize=16)\n",
        "plt.title('Sales as per the Platform',fontsize=16)"
      ],
      "execution_count": null,
      "outputs": [
        {
          "output_type": "stream",
          "text": [
            "/usr/local/lib/python3.6/dist-packages/ipykernel_launcher.py:3: FutureWarning: Indexing with multiple keys (implicitly converted to a tuple of keys) will be deprecated, use a list instead.\n",
            "  This is separate from the ipykernel package so we can avoid doing imports until\n"
          ],
          "name": "stderr"
        },
        {
          "output_type": "execute_result",
          "data": {
            "text/plain": [
              "Text(0.5, 1.0, 'Sales as per the Platform')"
            ]
          },
          "metadata": {
            "tags": []
          },
          "execution_count": 33
        },
        {
          "output_type": "display_data",
          "data": {
            "image/png": "[encoded data removed]",
            "text/plain": [
              "<Figure size 1728x576 with 1 Axes>"
            ]
          },
          "metadata": {
            "tags": [],
            "needs_background": "light"
          }
        }
      ]
    },
    {
      "cell_type": "markdown",
      "metadata": {
        "id": "LyRumBPe6eZK"
      },
      "source": [
        "*italicized text*####GB platform bagged the most sales globally and is the most popular in North America. GG appears to be the least popular. "
      ]
    },
    {
      "cell_type": "code",
      "metadata": {
        "colab": {
          "base_uri": "https://localhost:8080/",
          "height": 609
        },
        "id": "plpHam_G7xQO",
        "outputId": "c79ec3fd-4a0b-4ff8-da41-3d237e00fbb2"
      },
      "source": [
        "plt.figure(figsize=(20,10))\n",
        "top_pub=df.groupby('Publisher')['Publisher'].count().sort_values(ascending = False).head(10)\n",
        "sns.barplot(x=top_pub.values,y=top_pub.index)"
      ],
      "execution_count": null,
      "outputs": [
        {
          "output_type": "execute_result",
          "data": {
            "text/plain": [
              "<matplotlib.axes._subplots.AxesSubplot at 0x7ffa6c78fa90>"
            ]
          },
          "metadata": {
            "tags": []
          },
          "execution_count": 34
        },
        {
          "output_type": "display_data",
          "data": {
            "image/png": "[encoded data removed]",
            "text/plain": [
              "<Figure size 1440x720 with 1 Axes>"
            ]
          },
          "metadata": {
            "tags": [],
            "needs_background": "light"
          }
        }
      ]
    },
    {
      "cell_type": "markdown",
      "metadata": {
        "id": "_THjqmmO7797"
      },
      "source": [
        "####The above horizontal bar chart shows the frequency count of top 10 publishers, Electronic Arts being the heighest. "
      ]
    },
    {
      "cell_type": "markdown",
      "metadata": {
        "id": "H9j39qc78X3J"
      },
      "source": [
        "##**Standardization and normalization**"
      ]
    },
    {
      "cell_type": "code",
      "metadata": {
        "id": "F6zXUm-Mj1hA"
      },
      "source": [
        "df2 = df.copy()"
      ],
      "execution_count": null,
      "outputs": []
    },
    {
      "cell_type": "code",
      "metadata": {
        "id": "KXIKzJWMkwXi"
      },
      "source": [
        "vars = ['NA_Sales','EU_Sales','JP_Sales','Other_Sales','Global_Sales']\n",
        "df2 = df2.loc[:, vars]\n",
        "df2 = (df2-df2.mean())/df2.std()"
      ],
      "execution_count": null,
      "outputs": []
    },
    {
      "cell_type": "code",
      "metadata": {
        "id": "Ff1fZTDZkvxi",
        "colab": {
          "base_uri": "https://localhost:8080/",
          "height": 195
        },
        "outputId": "486b6e60-13bf-4728-8ef4-dc06e3d30a9d"
      },
      "source": [
        "df2.head()"
      ],
      "execution_count": null,
      "outputs": [
        {
          "output_type": "execute_result",
          "data": {
            "text/html": [
              "<div>\n",
              "<style scoped>\n",
              "    .dataframe tbody tr th:only-of-type {\n",
              "        vertical-align: middle;\n",
              "    }\n",
              "\n",
              "    .dataframe tbody tr th {\n",
              "        vertical-align: top;\n",
              "    }\n",
              "\n",
              "    .dataframe thead th {\n",
              "        text-align: right;\n",
              "    }\n",
              "</style>\n",
              "<table border=\"1\" class=\"dataframe\">\n",
              "  <thead>\n",
              "    <tr style=\"text-align: right;\">\n",
              "      <th></th>\n",
              "      <th>NA_Sales</th>\n",
              "      <th>EU_Sales</th>\n",
              "      <th>JP_Sales</th>\n",
              "      <th>Other_Sales</th>\n",
              "      <th>Global_Sales</th>\n",
              "    </tr>\n",
              "  </thead>\n",
              "  <tbody>\n",
              "    <tr>\n",
              "      <th>0</th>\n",
              "      <td>-0.435072</td>\n",
              "      <td>-0.366659</td>\n",
              "      <td>-0.151680</td>\n",
              "      <td>-0.366622</td>\n",
              "      <td>-0.418156</td>\n",
              "    </tr>\n",
              "    <tr>\n",
              "      <th>1</th>\n",
              "      <td>-0.435072</td>\n",
              "      <td>-0.366659</td>\n",
              "      <td>0.464585</td>\n",
              "      <td>-0.366622</td>\n",
              "      <td>-0.251990</td>\n",
              "    </tr>\n",
              "    <tr>\n",
              "      <th>2</th>\n",
              "      <td>-0.239741</td>\n",
              "      <td>0.214484</td>\n",
              "      <td>-0.210372</td>\n",
              "      <td>0.203932</td>\n",
              "      <td>-0.085823</td>\n",
              "    </tr>\n",
              "    <tr>\n",
              "      <th>3</th>\n",
              "      <td>-0.435072</td>\n",
              "      <td>-0.366659</td>\n",
              "      <td>-0.122334</td>\n",
              "      <td>-0.366622</td>\n",
              "      <td>-0.410244</td>\n",
              "    </tr>\n",
              "    <tr>\n",
              "      <th>4</th>\n",
              "      <td>-0.435072</td>\n",
              "      <td>-0.366659</td>\n",
              "      <td>-0.122334</td>\n",
              "      <td>-0.366622</td>\n",
              "      <td>-0.410244</td>\n",
              "    </tr>\n",
              "  </tbody>\n",
              "</table>\n",
              "</div>"
            ],
            "text/plain": [
              "   NA_Sales  EU_Sales  JP_Sales  Other_Sales  Global_Sales\n",
              "0 -0.435072 -0.366659 -0.151680    -0.366622     -0.418156\n",
              "1 -0.435072 -0.366659  0.464585    -0.366622     -0.251990\n",
              "2 -0.239741  0.214484 -0.210372     0.203932     -0.085823\n",
              "3 -0.435072 -0.366659 -0.122334    -0.366622     -0.410244\n",
              "4 -0.435072 -0.366659 -0.122334    -0.366622     -0.410244"
            ]
          },
          "metadata": {
            "tags": []
          },
          "execution_count": 37
        }
      ]
    },
    {
      "cell_type": "markdown",
      "metadata": {
        "id": "4p6PNSAQ87B8"
      },
      "source": [
        "###**Distribution of data**"
      ]
    },
    {
      "cell_type": "code",
      "metadata": {
        "id": "GIH2jvoJzggl",
        "colab": {
          "base_uri": "https://localhost:8080/"
        },
        "outputId": "33ba779f-4bb8-4eac-ae60-5cc8103266e0"
      },
      "source": [
        "df2.skew(axis = 0, skipna = True) #skewness"
      ],
      "execution_count": null,
      "outputs": [
        {
          "output_type": "execute_result",
          "data": {
            "text/plain": [
              "NA_Sales         6.325543\n",
              "EU_Sales         7.786982\n",
              "JP_Sales        12.399136\n",
              "Other_Sales      6.083364\n",
              "Global_Sales     8.326240\n",
              "dtype: float64"
            ]
          },
          "metadata": {
            "tags": []
          },
          "execution_count": 38
        }
      ]
    },
    {
      "cell_type": "markdown",
      "metadata": {
        "id": "I2ZIqAKT9YIa"
      },
      "source": [
        "####The following graph distributions show that they are right skewed as they have a long tail toward the right side."
      ]
    },
    {
      "cell_type": "code",
      "metadata": {
        "id": "zMBwysyLpxp5",
        "colab": {
          "base_uri": "https://localhost:8080/",
          "height": 446
        },
        "outputId": "50105d02-01cd-4c12-eb99-159d62d2a445"
      },
      "source": [
        "plt.subplots(figsize=(10,6))\n",
        "sns.distplot(df2['NA_Sales'])\n",
        "plt.xticks(rotation=90)\n",
        "plt.show()"
      ],
      "execution_count": null,
      "outputs": [
        {
          "output_type": "stream",
          "text": [
            "/usr/local/lib/python3.6/dist-packages/seaborn/distributions.py:2551: FutureWarning: `distplot` is a deprecated function and will be removed in a future version. Please adapt your code to use either `displot` (a figure-level function with similar flexibility) or `histplot` (an axes-level function for histograms).\n",
            "  warnings.warn(msg, FutureWarning)\n"
          ],
          "name": "stderr"
        },
        {
          "output_type": "display_data",
          "data": {
            "image/png": "[encoded data removed]",
            "text/plain": [
              "<Figure size 720x432 with 1 Axes>"
            ]
          },
          "metadata": {
            "tags": [],
            "needs_background": "light"
          }
        }
      ]
    },
    {
      "cell_type": "code",
      "metadata": {
        "id": "7RWRfawmn72s",
        "colab": {
          "base_uri": "https://localhost:8080/",
          "height": 454
        },
        "outputId": "bee7d6d4-f871-47c0-daf1-3e843b33ab62"
      },
      "source": [
        "plt.subplots(figsize=(10,6))\n",
        "sns.distplot(df2['EU_Sales'])\n",
        "plt.xticks(rotation=90)\n",
        "plt.show()"
      ],
      "execution_count": null,
      "outputs": [
        {
          "output_type": "stream",
          "text": [
            "/usr/local/lib/python3.6/dist-packages/seaborn/distributions.py:2551: FutureWarning: `distplot` is a deprecated function and will be removed in a future version. Please adapt your code to use either `displot` (a figure-level function with similar flexibility) or `histplot` (an axes-level function for histograms).\n",
            "  warnings.warn(msg, FutureWarning)\n"
          ],
          "name": "stderr"
        },
        {
          "output_type": "display_data",
          "data": {
            "image/png": "[encoded data removed]",
            "text/plain": [
              "<Figure size 720x432 with 1 Axes>"
            ]
          },
          "metadata": {
            "tags": [],
            "needs_background": "light"
          }
        }
      ]
    },
    {
      "cell_type": "code",
      "metadata": {
        "id": "84cWUaP5qdZN",
        "colab": {
          "base_uri": "https://localhost:8080/",
          "height": 446
        },
        "outputId": "93bdfd6a-bd7a-40b0-8689-915070bf9e0d"
      },
      "source": [
        "plt.subplots(figsize=(10,6))\n",
        "sns.distplot(df2['JP_Sales'])\n",
        "plt.xticks(rotation=90)\n",
        "plt.show()"
      ],
      "execution_count": null,
      "outputs": [
        {
          "output_type": "stream",
          "text": [
            "/usr/local/lib/python3.6/dist-packages/seaborn/distributions.py:2551: FutureWarning: `distplot` is a deprecated function and will be removed in a future version. Please adapt your code to use either `displot` (a figure-level function with similar flexibility) or `histplot` (an axes-level function for histograms).\n",
            "  warnings.warn(msg, FutureWarning)\n"
          ],
          "name": "stderr"
        },
        {
          "output_type": "display_data",
          "data": {
            "image/png": "[encoded data removed]",
            "text/plain": [
              "<Figure size 720x432 with 1 Axes>"
            ]
          },
          "metadata": {
            "tags": [],
            "needs_background": "light"
          }
        }
      ]
    },
    {
      "cell_type": "code",
      "metadata": {
        "id": "_6pKZp96qi90",
        "colab": {
          "base_uri": "https://localhost:8080/",
          "height": 454
        },
        "outputId": "48d7d0fc-cf80-4c55-a23f-5a30c6829b75"
      },
      "source": [
        "plt.subplots(figsize=(10,6))\n",
        "sns.distplot(df2['Global_Sales'])\n",
        "plt.xticks(rotation=90)\n",
        "plt.show()"
      ],
      "execution_count": null,
      "outputs": [
        {
          "output_type": "stream",
          "text": [
            "/usr/local/lib/python3.6/dist-packages/seaborn/distributions.py:2551: FutureWarning: `distplot` is a deprecated function and will be removed in a future version. Please adapt your code to use either `displot` (a figure-level function with similar flexibility) or `histplot` (an axes-level function for histograms).\n",
            "  warnings.warn(msg, FutureWarning)\n"
          ],
          "name": "stderr"
        },
        {
          "output_type": "display_data",
          "data": {
            "image/png": "[encoded data removed]",
            "text/plain": [
              "<Figure size 720x432 with 1 Axes>"
            ]
          },
          "metadata": {
            "tags": [],
            "needs_background": "light"
          }
        }
      ]
    },
    {
      "cell_type": "code",
      "metadata": {
        "id": "2SxnSgtTn8lc",
        "colab": {
          "base_uri": "https://localhost:8080/",
          "height": 446
        },
        "outputId": "70ba7d1f-56d3-4a1b-f616-78e4c65c8e45"
      },
      "source": [
        "plt.subplots(figsize=(10,6))\n",
        "sns.distplot(df2['Other_Sales'])\n",
        "plt.xticks(rotation=90)\n",
        "plt.show()"
      ],
      "execution_count": null,
      "outputs": [
        {
          "output_type": "stream",
          "text": [
            "/usr/local/lib/python3.6/dist-packages/seaborn/distributions.py:2551: FutureWarning: `distplot` is a deprecated function and will be removed in a future version. Please adapt your code to use either `displot` (a figure-level function with similar flexibility) or `histplot` (an axes-level function for histograms).\n",
            "  warnings.warn(msg, FutureWarning)\n"
          ],
          "name": "stderr"
        },
        {
          "output_type": "display_data",
          "data": {
            "image/png": "[encoded data removed]",
            "text/plain": [
              "<Figure size 720x432 with 1 Axes>"
            ]
          },
          "metadata": {
            "tags": [],
            "needs_background": "light"
          }
        }
      ]
    },
    {
      "cell_type": "markdown",
      "metadata": {
        "id": "0FH6qRCVC7x-"
      },
      "source": [
        "#**Time Series Analysis**\n"
      ]
    },
    {
      "cell_type": "code",
      "metadata": {
        "id": "XOMar-Q4DAho",
        "colab": {
          "base_uri": "https://localhost:8080/",
          "height": 738
        },
        "outputId": "a162bcac-9a0a-4e6b-ac3e-7a548dd6ab3d"
      },
      "source": [
        "plt.figure(figsize=(30,15))\n",
        "sns.countplot(x ='Year', data = df)"
      ],
      "execution_count": null,
      "outputs": [
        {
          "output_type": "execute_result",
          "data": {
            "text/plain": [
              "<matplotlib.axes._subplots.AxesSubplot at 0x7ffa6c444908>"
            ]
          },
          "metadata": {
            "tags": []
          },
          "execution_count": 44
        },
        {
          "output_type": "display_data",
          "data": {
            "image/png": "[encoded data removed]",
            "text/plain": [
              "<Figure size 2160x1080 with 1 Axes>"
            ]
          },
          "metadata": {
            "tags": [],
            "needs_background": "light"
          }
        }
      ]
    },
    {
      "cell_type": "markdown",
      "metadata": {
        "id": "poTbValk-A0x"
      },
      "source": [
        "####The above time series graph depicts the frequency count of game releases in each year. It shows a trend but no seasonality."
      ]
    },
    {
      "cell_type": "markdown",
      "metadata": {
        "id": "oRn0n8hzDrH-"
      },
      "source": [
        "###**Time Series Analysis of Sales region wise**\n"
      ]
    },
    {
      "cell_type": "code",
      "metadata": {
        "id": "Nbj88OR8Dqgw",
        "colab": {
          "base_uri": "https://localhost:8080/",
          "height": 708
        },
        "outputId": "a5dab2fb-e485-4823-f282-6371012f779e"
      },
      "source": [
        "df5 = df.groupby(['Year'])\n",
        "plt.figure(figsize=(10,10))\n",
        "df5_mean = df5['NA_Sales','EU_Sales','JP_Sales','Other_Sales'].aggregate(np.mean)\n",
        "df5_mean.plot(figsize=(10,10))\n",
        "plt.title('Average sales over the course of years')"
      ],
      "execution_count": null,
      "outputs": [
        {
          "output_type": "stream",
          "text": [
            "/usr/local/lib/python3.6/dist-packages/ipykernel_launcher.py:3: FutureWarning: Indexing with multiple keys (implicitly converted to a tuple of keys) will be deprecated, use a list instead.\n",
            "  This is separate from the ipykernel package so we can avoid doing imports until\n"
          ],
          "name": "stderr"
        },
        {
          "output_type": "execute_result",
          "data": {
            "text/plain": [
              "Text(0.5, 1.0, 'Average sales over the course of years')"
            ]
          },
          "metadata": {
            "tags": []
          },
          "execution_count": 45
        },
        {
          "output_type": "display_data",
          "data": {
            "text/plain": [
              "<Figure size 720x720 with 0 Axes>"
            ]
          },
          "metadata": {
            "tags": []
          }
        },
        {
          "output_type": "display_data",
          "data": {
            "image/png": "[encoded data removed]",
            "text/plain": [
              "<Figure size 720x720 with 1 Axes>"
            ]
          },
          "metadata": {
            "tags": [],
            "needs_background": "light"
          }
        }
      ]
    },
    {
      "cell_type": "markdown",
      "metadata": {
        "id": "KSihn2XA-8bI"
      },
      "source": [
        "####The above graph shows trend and seasonality in Japan and North America sales"
      ]
    },
    {
      "cell_type": "markdown",
      "metadata": {
        "id": "MIwnB7RR0u_-"
      },
      "source": [
        "###**Principal Component Analysis**\n",
        "#### PCA is done with respect to 'Genre' as the target Variable."
      ]
    },
    {
      "cell_type": "code",
      "metadata": {
        "id": "_s_cCk7c0yGK",
        "colab": {
          "base_uri": "https://localhost:8080/",
          "height": 195
        },
        "outputId": "09c7b5a6-f594-4564-f867-e444951eb7bd"
      },
      "source": [
        "ndf = df.copy()\n",
        "ndf.head()"
      ],
      "execution_count": null,
      "outputs": [
        {
          "output_type": "execute_result",
          "data": {
            "text/html": [
              "<div>\n",
              "<style scoped>\n",
              "    .dataframe tbody tr th:only-of-type {\n",
              "        vertical-align: middle;\n",
              "    }\n",
              "\n",
              "    .dataframe tbody tr th {\n",
              "        vertical-align: top;\n",
              "    }\n",
              "\n",
              "    .dataframe thead th {\n",
              "        text-align: right;\n",
              "    }\n",
              "</style>\n",
              "<table border=\"1\" class=\"dataframe\">\n",
              "  <thead>\n",
              "    <tr style=\"text-align: right;\">\n",
              "      <th></th>\n",
              "      <th>Rank</th>\n",
              "      <th>Name</th>\n",
              "      <th>Platform</th>\n",
              "      <th>Year</th>\n",
              "      <th>Genre</th>\n",
              "      <th>Publisher</th>\n",
              "      <th>NA_Sales</th>\n",
              "      <th>EU_Sales</th>\n",
              "      <th>JP_Sales</th>\n",
              "      <th>Other_Sales</th>\n",
              "      <th>Global_Sales</th>\n",
              "    </tr>\n",
              "  </thead>\n",
              "  <tbody>\n",
              "    <tr>\n",
              "      <th>0</th>\n",
              "      <td>14517</td>\n",
              "      <td>Galaxy Angel II: Mugen Kairou no Kagi</td>\n",
              "      <td>PS2</td>\n",
              "      <td>2007.0</td>\n",
              "      <td>Strategy</td>\n",
              "      <td>Broccoli</td>\n",
              "      <td>0.00</td>\n",
              "      <td>0.00</td>\n",
              "      <td>0.03</td>\n",
              "      <td>0.00</td>\n",
              "      <td>0.03</td>\n",
              "    </tr>\n",
              "    <tr>\n",
              "      <th>1</th>\n",
              "      <td>6844</td>\n",
              "      <td>Pro Yaky? Spirits 2010</td>\n",
              "      <td>PSP</td>\n",
              "      <td>2010.0</td>\n",
              "      <td>Sports</td>\n",
              "      <td>Konami Digital Entertainment</td>\n",
              "      <td>0.00</td>\n",
              "      <td>0.00</td>\n",
              "      <td>0.24</td>\n",
              "      <td>0.00</td>\n",
              "      <td>0.24</td>\n",
              "    </tr>\n",
              "    <tr>\n",
              "      <th>2</th>\n",
              "      <td>4319</td>\n",
              "      <td>The Walking Dead: Season One</td>\n",
              "      <td>PS4</td>\n",
              "      <td>2014.0</td>\n",
              "      <td>Adventure</td>\n",
              "      <td>Telltale Games</td>\n",
              "      <td>0.12</td>\n",
              "      <td>0.25</td>\n",
              "      <td>0.01</td>\n",
              "      <td>0.08</td>\n",
              "      <td>0.45</td>\n",
              "    </tr>\n",
              "    <tr>\n",
              "      <th>3</th>\n",
              "      <td>13600</td>\n",
              "      <td>Doraemon: Shin Nobita no Daimakyou Peko to 5-n...</td>\n",
              "      <td>3DS</td>\n",
              "      <td>2014.0</td>\n",
              "      <td>Action</td>\n",
              "      <td>FuRyu</td>\n",
              "      <td>0.00</td>\n",
              "      <td>0.00</td>\n",
              "      <td>0.04</td>\n",
              "      <td>0.00</td>\n",
              "      <td>0.04</td>\n",
              "    </tr>\n",
              "    <tr>\n",
              "      <th>4</th>\n",
              "      <td>13521</td>\n",
              "      <td>D.C.F.S.: Da Capo Four Seasons</td>\n",
              "      <td>PS2</td>\n",
              "      <td>2005.0</td>\n",
              "      <td>Adventure</td>\n",
              "      <td>Kadokawa Shoten</td>\n",
              "      <td>0.00</td>\n",
              "      <td>0.00</td>\n",
              "      <td>0.04</td>\n",
              "      <td>0.00</td>\n",
              "      <td>0.04</td>\n",
              "    </tr>\n",
              "  </tbody>\n",
              "</table>\n",
              "</div>"
            ],
            "text/plain": [
              "    Rank  ... Global_Sales\n",
              "0  14517  ...         0.03\n",
              "1   6844  ...         0.24\n",
              "2   4319  ...         0.45\n",
              "3  13600  ...         0.04\n",
              "4  13521  ...         0.04\n",
              "\n",
              "[5 rows x 11 columns]"
            ]
          },
          "metadata": {
            "tags": []
          },
          "execution_count": 46
        }
      ]
    },
    {
      "cell_type": "code",
      "metadata": {
        "id": "VDjDCaQ3cUYD"
      },
      "source": [
        "from sklearn import model_selection, preprocessing\n",
        "for c in ndf.columns:\n",
        "    if ndf[c].dtype == 'object':\n",
        "        lbl = preprocessing.LabelEncoder()\n",
        "        lbl.fit(list(ndf[c].values)) \n",
        "        ndf[c] = lbl.transform(list(ndf[c].values))"
      ],
      "execution_count": null,
      "outputs": []
    },
    {
      "cell_type": "code",
      "metadata": {
        "id": "0gMLMZOT4l_M",
        "colab": {
          "base_uri": "https://localhost:8080/",
          "height": 402
        },
        "outputId": "4170ddf6-9fb5-44ce-a86c-3fc60291cbaf"
      },
      "source": [
        "variables = ['Name','Platform','Year','Publisher','NA_Sales','EU_Sales','JP_Sales','Other_Sales','Global_Sales']\n",
        "x = ndf.loc[:, variables].values\n",
        "y = ndf.loc[:,['Genre']].values\n",
        "x = StandardScaler().fit_transform(x)\n",
        "x = pd.DataFrame(x)\n",
        "x"
      ],
      "execution_count": null,
      "outputs": [
        {
          "output_type": "execute_result",
          "data": {
            "text/html": [
              "<div>\n",
              "<style scoped>\n",
              "    .dataframe tbody tr th:only-of-type {\n",
              "        vertical-align: middle;\n",
              "    }\n",
              "\n",
              "    .dataframe tbody tr th {\n",
              "        vertical-align: top;\n",
              "    }\n",
              "\n",
              "    .dataframe thead th {\n",
              "        text-align: right;\n",
              "    }\n",
              "</style>\n",
              "<table border=\"1\" class=\"dataframe\">\n",
              "  <thead>\n",
              "    <tr style=\"text-align: right;\">\n",
              "      <th></th>\n",
              "      <th>0</th>\n",
              "      <th>1</th>\n",
              "      <th>2</th>\n",
              "      <th>3</th>\n",
              "      <th>4</th>\n",
              "      <th>5</th>\n",
              "      <th>6</th>\n",
              "      <th>7</th>\n",
              "      <th>8</th>\n",
              "    </tr>\n",
              "  </thead>\n",
              "  <tbody>\n",
              "    <tr>\n",
              "      <th>0</th>\n",
              "      <td>-0.684029</td>\n",
              "      <td>-0.001232</td>\n",
              "      <td>0.103682</td>\n",
              "      <td>-1.179071</td>\n",
              "      <td>-0.435276</td>\n",
              "      <td>-0.366831</td>\n",
              "      <td>-0.151751</td>\n",
              "      <td>-0.366794</td>\n",
              "      <td>-0.418352</td>\n",
              "    </tr>\n",
              "    <tr>\n",
              "      <th>1</th>\n",
              "      <td>0.552683</td>\n",
              "      <td>0.437054</td>\n",
              "      <td>0.621442</td>\n",
              "      <td>-0.061300</td>\n",
              "      <td>-0.435276</td>\n",
              "      <td>-0.366831</td>\n",
              "      <td>0.464802</td>\n",
              "      <td>-0.366794</td>\n",
              "      <td>-0.252108</td>\n",
              "    </tr>\n",
              "    <tr>\n",
              "      <th>2</th>\n",
              "      <td>1.307515</td>\n",
              "      <td>0.290959</td>\n",
              "      <td>1.311790</td>\n",
              "      <td>1.254784</td>\n",
              "      <td>-0.239853</td>\n",
              "      <td>0.214584</td>\n",
              "      <td>-0.210471</td>\n",
              "      <td>0.204027</td>\n",
              "      <td>-0.085864</td>\n",
              "    </tr>\n",
              "    <tr>\n",
              "      <th>3</th>\n",
              "      <td>-0.990679</td>\n",
              "      <td>-1.754377</td>\n",
              "      <td>1.311790</td>\n",
              "      <td>-0.620186</td>\n",
              "      <td>-0.435276</td>\n",
              "      <td>-0.366831</td>\n",
              "      <td>-0.122392</td>\n",
              "      <td>-0.366794</td>\n",
              "      <td>-0.410436</td>\n",
              "    </tr>\n",
              "    <tr>\n",
              "      <th>4</th>\n",
              "      <td>-1.162538</td>\n",
              "      <td>-0.001232</td>\n",
              "      <td>-0.241492</td>\n",
              "      <td>-0.133415</td>\n",
              "      <td>-0.435276</td>\n",
              "      <td>-0.366831</td>\n",
              "      <td>-0.122392</td>\n",
              "      <td>-0.366794</td>\n",
              "      <td>-0.410436</td>\n",
              "    </tr>\n",
              "    <tr>\n",
              "      <th>...</th>\n",
              "      <td>...</td>\n",
              "      <td>...</td>\n",
              "      <td>...</td>\n",
              "      <td>...</td>\n",
              "      <td>...</td>\n",
              "      <td>...</td>\n",
              "      <td>...</td>\n",
              "      <td>...</td>\n",
              "      <td>...</td>\n",
              "    </tr>\n",
              "    <tr>\n",
              "      <th>1062</th>\n",
              "      <td>-1.384944</td>\n",
              "      <td>1.167531</td>\n",
              "      <td>0.794029</td>\n",
              "      <td>-1.503585</td>\n",
              "      <td>-0.190997</td>\n",
              "      <td>-0.320318</td>\n",
              "      <td>-0.239831</td>\n",
              "      <td>-0.295442</td>\n",
              "      <td>-0.299606</td>\n",
              "    </tr>\n",
              "    <tr>\n",
              "      <th>1063</th>\n",
              "      <td>-1.034486</td>\n",
              "      <td>1.459722</td>\n",
              "      <td>0.794029</td>\n",
              "      <td>-0.890614</td>\n",
              "      <td>0.167279</td>\n",
              "      <td>-0.017982</td>\n",
              "      <td>-0.239831</td>\n",
              "      <td>-0.010031</td>\n",
              "      <td>0.009133</td>\n",
              "    </tr>\n",
              "    <tr>\n",
              "      <th>1064</th>\n",
              "      <td>-1.738772</td>\n",
              "      <td>-0.001232</td>\n",
              "      <td>-0.586666</td>\n",
              "      <td>-1.341328</td>\n",
              "      <td>-0.288709</td>\n",
              "      <td>-0.204035</td>\n",
              "      <td>-0.239831</td>\n",
              "      <td>-0.224089</td>\n",
              "      <td>-0.299606</td>\n",
              "    </tr>\n",
              "    <tr>\n",
              "      <th>1065</th>\n",
              "      <td>1.176093</td>\n",
              "      <td>1.167531</td>\n",
              "      <td>0.966616</td>\n",
              "      <td>-1.503585</td>\n",
              "      <td>-0.256138</td>\n",
              "      <td>-0.273805</td>\n",
              "      <td>-0.239831</td>\n",
              "      <td>-0.295442</td>\n",
              "      <td>-0.315439</td>\n",
              "    </tr>\n",
              "    <tr>\n",
              "      <th>1066</th>\n",
              "      <td>0.212334</td>\n",
              "      <td>1.167531</td>\n",
              "      <td>0.276268</td>\n",
              "      <td>-0.800471</td>\n",
              "      <td>1.062969</td>\n",
              "      <td>-0.157522</td>\n",
              "      <td>-0.239831</td>\n",
              "      <td>0.275380</td>\n",
              "      <td>0.428702</td>\n",
              "    </tr>\n",
              "  </tbody>\n",
              "</table>\n",
              "<p>1067 rows × 9 columns</p>\n",
              "</div>"
            ],
            "text/plain": [
              "             0         1         2  ...         6         7         8\n",
              "0    -0.684029 -0.001232  0.103682  ... -0.151751 -0.366794 -0.418352\n",
              "1     0.552683  0.437054  0.621442  ...  0.464802 -0.366794 -0.252108\n",
              "2     1.307515  0.290959  1.311790  ... -0.210471  0.204027 -0.085864\n",
              "3    -0.990679 -1.754377  1.311790  ... -0.122392 -0.366794 -0.410436\n",
              "4    -1.162538 -0.001232 -0.241492  ... -0.122392 -0.366794 -0.410436\n",
              "...        ...       ...       ...  ...       ...       ...       ...\n",
              "1062 -1.384944  1.167531  0.794029  ... -0.239831 -0.295442 -0.299606\n",
              "1063 -1.034486  1.459722  0.794029  ... -0.239831 -0.010031  0.009133\n",
              "1064 -1.738772 -0.001232 -0.586666  ... -0.239831 -0.224089 -0.299606\n",
              "1065  1.176093  1.167531  0.966616  ... -0.239831 -0.295442 -0.315439\n",
              "1066  0.212334  1.167531  0.276268  ... -0.239831  0.275380  0.428702\n",
              "\n",
              "[1067 rows x 9 columns]"
            ]
          },
          "metadata": {
            "tags": []
          },
          "execution_count": 48
        }
      ]
    },
    {
      "cell_type": "code",
      "metadata": {
        "id": "aEErwewW_xXv",
        "colab": {
          "base_uri": "https://localhost:8080/",
          "height": 402
        },
        "outputId": "ef2d6cb8-9f69-4762-9323-4f94a1f6060b"
      },
      "source": [
        "pca = PCA(n_components=2)\n",
        "principalComponents = pca.fit_transform(x)\n",
        "principalDf = pd.DataFrame(data = principalComponents, columns = ['principal component 1', 'principal component 2'])\n",
        "principalDf"
      ],
      "execution_count": null,
      "outputs": [
        {
          "output_type": "execute_result",
          "data": {
            "text/html": [
              "<div>\n",
              "<style scoped>\n",
              "    .dataframe tbody tr th:only-of-type {\n",
              "        vertical-align: middle;\n",
              "    }\n",
              "\n",
              "    .dataframe tbody tr th {\n",
              "        vertical-align: top;\n",
              "    }\n",
              "\n",
              "    .dataframe thead th {\n",
              "        text-align: right;\n",
              "    }\n",
              "</style>\n",
              "<table border=\"1\" class=\"dataframe\">\n",
              "  <thead>\n",
              "    <tr style=\"text-align: right;\">\n",
              "      <th></th>\n",
              "      <th>principal component 1</th>\n",
              "      <th>principal component 2</th>\n",
              "    </tr>\n",
              "  </thead>\n",
              "  <tbody>\n",
              "    <tr>\n",
              "      <th>0</th>\n",
              "      <td>-0.830114</td>\n",
              "      <td>0.459562</td>\n",
              "    </tr>\n",
              "    <tr>\n",
              "      <th>1</th>\n",
              "      <td>-0.543319</td>\n",
              "      <td>-0.528966</td>\n",
              "    </tr>\n",
              "    <tr>\n",
              "      <th>2</th>\n",
              "      <td>-0.109885</td>\n",
              "      <td>-1.737805</td>\n",
              "    </tr>\n",
              "    <tr>\n",
              "      <th>3</th>\n",
              "      <td>-0.869236</td>\n",
              "      <td>0.685146</td>\n",
              "    </tr>\n",
              "    <tr>\n",
              "      <th>4</th>\n",
              "      <td>-0.780697</td>\n",
              "      <td>0.544415</td>\n",
              "    </tr>\n",
              "    <tr>\n",
              "      <th>...</th>\n",
              "      <td>...</td>\n",
              "      <td>...</td>\n",
              "    </tr>\n",
              "    <tr>\n",
              "      <th>1062</th>\n",
              "      <td>-0.707775</td>\n",
              "      <td>-0.472594</td>\n",
              "    </tr>\n",
              "    <tr>\n",
              "      <th>1063</th>\n",
              "      <td>-0.110030</td>\n",
              "      <td>-0.970589</td>\n",
              "    </tr>\n",
              "    <tr>\n",
              "      <th>1064</th>\n",
              "      <td>-0.562107</td>\n",
              "      <td>1.111597</td>\n",
              "    </tr>\n",
              "    <tr>\n",
              "      <th>1065</th>\n",
              "      <td>-0.708044</td>\n",
              "      <td>-1.187289</td>\n",
              "    </tr>\n",
              "    <tr>\n",
              "      <th>1066</th>\n",
              "      <td>0.642453</td>\n",
              "      <td>-0.830832</td>\n",
              "    </tr>\n",
              "  </tbody>\n",
              "</table>\n",
              "<p>1067 rows × 2 columns</p>\n",
              "</div>"
            ],
            "text/plain": [
              "      principal component 1  principal component 2\n",
              "0                 -0.830114               0.459562\n",
              "1                 -0.543319              -0.528966\n",
              "2                 -0.109885              -1.737805\n",
              "3                 -0.869236               0.685146\n",
              "4                 -0.780697               0.544415\n",
              "...                     ...                    ...\n",
              "1062              -0.707775              -0.472594\n",
              "1063              -0.110030              -0.970589\n",
              "1064              -0.562107               1.111597\n",
              "1065              -0.708044              -1.187289\n",
              "1066               0.642453              -0.830832\n",
              "\n",
              "[1067 rows x 2 columns]"
            ]
          },
          "metadata": {
            "tags": []
          },
          "execution_count": 49
        }
      ]
    },
    {
      "cell_type": "code",
      "metadata": {
        "id": "3-QT4k2h_5Yh",
        "colab": {
          "base_uri": "https://localhost:8080/"
        },
        "outputId": "3d304433-43ff-43cb-b41c-d913d050d8d9"
      },
      "source": [
        "explained_variance = pca.explained_variance_ratio_\n",
        "explained_variance#53.7% variance explained by Principal component 1 and 2"
      ],
      "execution_count": null,
      "outputs": [
        {
          "output_type": "execute_result",
          "data": {
            "text/plain": [
              "array([0.39553312, 0.14206009])"
            ]
          },
          "metadata": {
            "tags": []
          },
          "execution_count": 50
        }
      ]
    },
    {
      "cell_type": "code",
      "metadata": {
        "colab": {
          "base_uri": "https://localhost:8080/",
          "height": 195
        },
        "id": "DVnwqlQAEALk",
        "outputId": "93514b14-9831-4735-b7b9-66c57b750462"
      },
      "source": [
        "finalDf = pd.concat([principalDf, df[['Genre']]], axis = 1)\n",
        "finalDf.head(5)"
      ],
      "execution_count": null,
      "outputs": [
        {
          "output_type": "execute_result",
          "data": {
            "text/html": [
              "<div>\n",
              "<style scoped>\n",
              "    .dataframe tbody tr th:only-of-type {\n",
              "        vertical-align: middle;\n",
              "    }\n",
              "\n",
              "    .dataframe tbody tr th {\n",
              "        vertical-align: top;\n",
              "    }\n",
              "\n",
              "    .dataframe thead th {\n",
              "        text-align: right;\n",
              "    }\n",
              "</style>\n",
              "<table border=\"1\" class=\"dataframe\">\n",
              "  <thead>\n",
              "    <tr style=\"text-align: right;\">\n",
              "      <th></th>\n",
              "      <th>principal component 1</th>\n",
              "      <th>principal component 2</th>\n",
              "      <th>Genre</th>\n",
              "    </tr>\n",
              "  </thead>\n",
              "  <tbody>\n",
              "    <tr>\n",
              "      <th>0</th>\n",
              "      <td>-0.830114</td>\n",
              "      <td>0.459562</td>\n",
              "      <td>Strategy</td>\n",
              "    </tr>\n",
              "    <tr>\n",
              "      <th>1</th>\n",
              "      <td>-0.543319</td>\n",
              "      <td>-0.528966</td>\n",
              "      <td>Sports</td>\n",
              "    </tr>\n",
              "    <tr>\n",
              "      <th>2</th>\n",
              "      <td>-0.109885</td>\n",
              "      <td>-1.737805</td>\n",
              "      <td>Adventure</td>\n",
              "    </tr>\n",
              "    <tr>\n",
              "      <th>3</th>\n",
              "      <td>-0.869236</td>\n",
              "      <td>0.685146</td>\n",
              "      <td>Action</td>\n",
              "    </tr>\n",
              "    <tr>\n",
              "      <th>4</th>\n",
              "      <td>-0.780697</td>\n",
              "      <td>0.544415</td>\n",
              "      <td>Adventure</td>\n",
              "    </tr>\n",
              "  </tbody>\n",
              "</table>\n",
              "</div>"
            ],
            "text/plain": [
              "   principal component 1  principal component 2      Genre\n",
              "0              -0.830114               0.459562   Strategy\n",
              "1              -0.543319              -0.528966     Sports\n",
              "2              -0.109885              -1.737805  Adventure\n",
              "3              -0.869236               0.685146     Action\n",
              "4              -0.780697               0.544415  Adventure"
            ]
          },
          "metadata": {
            "tags": []
          },
          "execution_count": 51
        }
      ]
    },
    {
      "cell_type": "code",
      "metadata": {
        "id": "x3Kpt9479FmL",
        "colab": {
          "base_uri": "https://localhost:8080/"
        },
        "outputId": "540c6c36-ab17-4493-c60f-51b6bc9a3d46"
      },
      "source": [
        "df['Platform'].describe()"
      ],
      "execution_count": null,
      "outputs": [
        {
          "output_type": "execute_result",
          "data": {
            "text/plain": [
              "count     1067\n",
              "unique      26\n",
              "top        PS2\n",
              "freq       160\n",
              "Name: Platform, dtype: object"
            ]
          },
          "metadata": {
            "tags": []
          },
          "execution_count": 52
        }
      ]
    },
    {
      "cell_type": "markdown",
      "metadata": {
        "id": "_JoZnPCEKKou"
      },
      "source": [
        "#**Games with heighest sales region wise**"
      ]
    },
    {
      "cell_type": "code",
      "metadata": {
        "colab": {
          "base_uri": "https://localhost:8080/"
        },
        "id": "oDnDVD_LBNpK",
        "outputId": "17d2026a-73d8-4c5e-c3ea-c30785e123d4"
      },
      "source": [
        "top_game_NA = df.loc[df['NA_Sales']==max(df['NA_Sales'])]\n",
        "print(\"NORTH AMERICA : \", top_game_NA['Name'])\n",
        "print()\n",
        "top_game_EU = df.loc[df['EU_Sales']==max(df['EU_Sales'])]\n",
        "print(\"EUROPE : \", top_game_EU['Name'])\n",
        "print()\n",
        "top_game_JP = df.loc[df['JP_Sales']==max(df['JP_Sales'])]\n",
        "print(\"JAPAN : \", top_game_JP['Name'])\n",
        "print()\n",
        "top_game_Global = df.loc[df['Global_Sales']==max(df['Global_Sales'])]\n",
        "print(\"GLOBALLY : \", top_game_Global['Name'])\n",
        "print()"
      ],
      "execution_count": null,
      "outputs": [
        {
          "output_type": "stream",
          "text": [
            "NORTH AMERICA :  993    Pokemon Gold/Pokemon Silver\n",
            "Name: Name, dtype: object\n",
            "\n",
            "EUROPE :  1013    The Sims 3\n",
            "Name: Name, dtype: object\n",
            "\n",
            "JAPAN :  993    Pokemon Gold/Pokemon Silver\n",
            "Name: Name, dtype: object\n",
            "\n",
            "GLOBALLY :  993    Pokemon Gold/Pokemon Silver\n",
            "Name: Name, dtype: object\n",
            "\n"
          ],
          "name": "stdout"
        }
      ]
    },
    {
      "cell_type": "markdown",
      "metadata": {
        "id": "Zeu4DtAbBu-a"
      },
      "source": [
        "With respect to the sales region wise we have calculated to find the games with the heighest sales. It is seen that Pokemon Gold/Pokemon silver is the most popular in North America, Japan and globally."
      ]
    },
    {
      "cell_type": "markdown",
      "metadata": {
        "id": "ZVSI2wbyfUBy"
      },
      "source": [
        "#**Games which are available for more than one platforms**\n",
        "\n",
        "---\n",
        "#### The below table displays the game names with the platform count for each game(those games with count>1). This is a clear indication of the popularity of that specific game with respect to platforms.\n",
        "\n",
        "##### From the below table it is seen that 'The Walking Dead: Season One' has the most platform diversity.\n"
      ]
    },
    {
      "cell_type": "code",
      "metadata": {
        "colab": {
          "base_uri": "https://localhost:8080/",
          "height": 1000
        },
        "id": "iuFsN60nffgt",
        "outputId": "263fa383-944b-4c2c-c1e8-9e782f53609b"
      },
      "source": [
        "ddf = df.copy()\n",
        "multiple_platform_title = ddf.groupby('Name').agg({'Name':lambda x : len(x) if (len(x) > 1) else None}).dropna()\n",
        "multiple_platform_title.Name = multiple_platform_title.Name.astype(np.int64)\n",
        "multiple_platform_title.index.name = None\n",
        "multiple_platform_title = multiple_platform_title.sort_values( by='Name',ascending=False)\n",
        "multiple_platform_title.columns = ['Platform_count']\n",
        "multiple_platform_title"
      ],
      "execution_count": null,
      "outputs": [
        {
          "output_type": "execute_result",
          "data": {
            "text/html": [
              "<div>\n",
              "<style scoped>\n",
              "    .dataframe tbody tr th:only-of-type {\n",
              "        vertical-align: middle;\n",
              "    }\n",
              "\n",
              "    .dataframe tbody tr th {\n",
              "        vertical-align: top;\n",
              "    }\n",
              "\n",
              "    .dataframe thead th {\n",
              "        text-align: right;\n",
              "    }\n",
              "</style>\n",
              "<table border=\"1\" class=\"dataframe\">\n",
              "  <thead>\n",
              "    <tr style=\"text-align: right;\">\n",
              "      <th></th>\n",
              "      <th>Platform_count</th>\n",
              "    </tr>\n",
              "  </thead>\n",
              "  <tbody>\n",
              "    <tr>\n",
              "      <th>The Walking Dead: Season One</th>\n",
              "      <td>3</td>\n",
              "    </tr>\n",
              "    <tr>\n",
              "      <th>Backyard Baseball '09</th>\n",
              "      <td>2</td>\n",
              "    </tr>\n",
              "    <tr>\n",
              "      <th>Star Wars: The Force Unleashed II</th>\n",
              "      <td>2</td>\n",
              "    </tr>\n",
              "    <tr>\n",
              "      <th>Rage</th>\n",
              "      <td>2</td>\n",
              "    </tr>\n",
              "    <tr>\n",
              "      <th>SD Gundam G Generation Wars</th>\n",
              "      <td>2</td>\n",
              "    </tr>\n",
              "    <tr>\n",
              "      <th>Shaun White Snowboarding</th>\n",
              "      <td>2</td>\n",
              "    </tr>\n",
              "    <tr>\n",
              "      <th>Ski-Doo Snowmobile Challenge</th>\n",
              "      <td>2</td>\n",
              "    </tr>\n",
              "    <tr>\n",
              "      <th>Space Chimps</th>\n",
              "      <td>2</td>\n",
              "    </tr>\n",
              "    <tr>\n",
              "      <th>Spider-Man: Web of Shadows</th>\n",
              "      <td>2</td>\n",
              "    </tr>\n",
              "    <tr>\n",
              "      <th>TRON: Evolution</th>\n",
              "      <td>2</td>\n",
              "    </tr>\n",
              "    <tr>\n",
              "      <th>Need for Speed: ProStreet</th>\n",
              "      <td>2</td>\n",
              "    </tr>\n",
              "    <tr>\n",
              "      <th>Tak and the Power of Juju</th>\n",
              "      <td>2</td>\n",
              "    </tr>\n",
              "    <tr>\n",
              "      <th>The Amazing Spider-Man 2 (2014)</th>\n",
              "      <td>2</td>\n",
              "    </tr>\n",
              "    <tr>\n",
              "      <th>The Chronicles of Narnia: Prince Caspian</th>\n",
              "      <td>2</td>\n",
              "    </tr>\n",
              "    <tr>\n",
              "      <th>The Sims 3</th>\n",
              "      <td>2</td>\n",
              "    </tr>\n",
              "    <tr>\n",
              "      <th>The Urbz: Sims in the City</th>\n",
              "      <td>2</td>\n",
              "    </tr>\n",
              "    <tr>\n",
              "      <th>Time Travelers</th>\n",
              "      <td>2</td>\n",
              "    </tr>\n",
              "    <tr>\n",
              "      <th>One Piece: Pirate Warriors 2</th>\n",
              "      <td>2</td>\n",
              "    </tr>\n",
              "    <tr>\n",
              "      <th>Need for Speed Rivals</th>\n",
              "      <td>2</td>\n",
              "    </tr>\n",
              "    <tr>\n",
              "      <th>Barnyard</th>\n",
              "      <td>2</td>\n",
              "    </tr>\n",
              "    <tr>\n",
              "      <th>NHL 2004</th>\n",
              "      <td>2</td>\n",
              "    </tr>\n",
              "    <tr>\n",
              "      <th>Damnation</th>\n",
              "      <td>2</td>\n",
              "    </tr>\n",
              "    <tr>\n",
              "      <th>Def Jam Rapstar</th>\n",
              "      <td>2</td>\n",
              "    </tr>\n",
              "    <tr>\n",
              "      <th>Diablo</th>\n",
              "      <td>2</td>\n",
              "    </tr>\n",
              "    <tr>\n",
              "      <th>Disney's DuckTales</th>\n",
              "      <td>2</td>\n",
              "    </tr>\n",
              "    <tr>\n",
              "      <th>Evil Dead: Regeneration</th>\n",
              "      <td>2</td>\n",
              "    </tr>\n",
              "    <tr>\n",
              "      <th>Evolve</th>\n",
              "      <td>2</td>\n",
              "    </tr>\n",
              "    <tr>\n",
              "      <th>FIFA 17</th>\n",
              "      <td>2</td>\n",
              "    </tr>\n",
              "    <tr>\n",
              "      <th>FIFA Soccer 10</th>\n",
              "      <td>2</td>\n",
              "    </tr>\n",
              "    <tr>\n",
              "      <th>Far Cry 3</th>\n",
              "      <td>2</td>\n",
              "    </tr>\n",
              "    <tr>\n",
              "      <th>Hitman: HD Trilogy</th>\n",
              "      <td>2</td>\n",
              "    </tr>\n",
              "    <tr>\n",
              "      <th>Jikkyou Powerful Pro Yakyuu 15</th>\n",
              "      <td>2</td>\n",
              "    </tr>\n",
              "    <tr>\n",
              "      <th>Jikkyou Powerful Pro Yakyuu 2011 Ketteiban</th>\n",
              "      <td>2</td>\n",
              "    </tr>\n",
              "    <tr>\n",
              "      <th>LEGO Marvel Super Heroes</th>\n",
              "      <td>2</td>\n",
              "    </tr>\n",
              "    <tr>\n",
              "      <th>MX vs. ATV Untamed</th>\n",
              "      <td>2</td>\n",
              "    </tr>\n",
              "    <tr>\n",
              "      <th>Manhunt 2</th>\n",
              "      <td>2</td>\n",
              "    </tr>\n",
              "    <tr>\n",
              "      <th>Wall-E</th>\n",
              "      <td>2</td>\n",
              "    </tr>\n",
              "  </tbody>\n",
              "</table>\n",
              "</div>"
            ],
            "text/plain": [
              "                                            Platform_count\n",
              "The Walking Dead: Season One                             3\n",
              "Backyard Baseball '09                                    2\n",
              "Star Wars: The Force Unleashed II                        2\n",
              "Rage                                                     2\n",
              "SD Gundam G Generation Wars                              2\n",
              "Shaun White Snowboarding                                 2\n",
              "Ski-Doo Snowmobile Challenge                             2\n",
              "Space Chimps                                             2\n",
              "Spider-Man: Web of Shadows                               2\n",
              "TRON: Evolution                                          2\n",
              "Need for Speed: ProStreet                                2\n",
              "Tak and the Power of Juju                                2\n",
              "The Amazing Spider-Man 2 (2014)                          2\n",
              "The Chronicles of Narnia: Prince Caspian                 2\n",
              "The Sims 3                                               2\n",
              "The Urbz: Sims in the City                               2\n",
              "Time Travelers                                           2\n",
              "One Piece: Pirate Warriors 2                             2\n",
              "Need for Speed Rivals                                    2\n",
              "Barnyard                                                 2\n",
              "NHL 2004                                                 2\n",
              "Damnation                                                2\n",
              "Def Jam Rapstar                                          2\n",
              "Diablo                                                   2\n",
              "Disney's DuckTales                                       2\n",
              "Evil Dead: Regeneration                                  2\n",
              "Evolve                                                   2\n",
              "FIFA 17                                                  2\n",
              "FIFA Soccer 10                                           2\n",
              "Far Cry 3                                                2\n",
              "Hitman: HD Trilogy                                       2\n",
              "Jikkyou Powerful Pro Yakyuu 15                           2\n",
              "Jikkyou Powerful Pro Yakyuu 2011 Ketteiban               2\n",
              "LEGO Marvel Super Heroes                                 2\n",
              "MX vs. ATV Untamed                                       2\n",
              "Manhunt 2                                                2\n",
              "Wall-E                                                   2"
            ]
          },
          "metadata": {
            "tags": []
          },
          "execution_count": 54
        }
      ]
    },
    {
      "cell_type": "markdown",
      "metadata": {
        "id": "i_94Ij0mKcw1"
      },
      "source": [
        "#**Predictive Analysis (Forecasting Sales)**\n",
        "                                                          "
      ]
    },
    {
      "cell_type": "code",
      "metadata": {
        "id": "j05UC3O7JVcH"
      },
      "source": [
        "data = df.copy()"
      ],
      "execution_count": null,
      "outputs": []
    },
    {
      "cell_type": "markdown",
      "metadata": {
        "id": "sfvGnAGTANMU"
      },
      "source": [
        "####Encoding all the categorical data points."
      ]
    },
    {
      "cell_type": "code",
      "metadata": {
        "id": "U-vyWAdbKwdN"
      },
      "source": [
        "from sklearn import model_selection, preprocessing\n",
        "for c in data.columns:\n",
        "    if data[c].dtype == 'object':\n",
        "        lbl = preprocessing.LabelEncoder()\n",
        "        lbl.fit(list(data[c].values)) \n",
        "        data[c] = lbl.transform(list(data[c].values))"
      ],
      "execution_count": null,
      "outputs": []
    },
    {
      "cell_type": "code",
      "metadata": {
        "colab": {
          "base_uri": "https://localhost:8080/",
          "height": 195
        },
        "id": "ROmuaa0JK77A",
        "outputId": "912f0fce-0edd-4bdd-f255-666689969d78"
      },
      "source": [
        "data.head(5)"
      ],
      "execution_count": null,
      "outputs": [
        {
          "output_type": "execute_result",
          "data": {
            "text/html": [
              "<div>\n",
              "<style scoped>\n",
              "    .dataframe tbody tr th:only-of-type {\n",
              "        vertical-align: middle;\n",
              "    }\n",
              "\n",
              "    .dataframe tbody tr th {\n",
              "        vertical-align: top;\n",
              "    }\n",
              "\n",
              "    .dataframe thead th {\n",
              "        text-align: right;\n",
              "    }\n",
              "</style>\n",
              "<table border=\"1\" class=\"dataframe\">\n",
              "  <thead>\n",
              "    <tr style=\"text-align: right;\">\n",
              "      <th></th>\n",
              "      <th>Rank</th>\n",
              "      <th>Name</th>\n",
              "      <th>Platform</th>\n",
              "      <th>Year</th>\n",
              "      <th>Genre</th>\n",
              "      <th>Publisher</th>\n",
              "      <th>NA_Sales</th>\n",
              "      <th>EU_Sales</th>\n",
              "      <th>JP_Sales</th>\n",
              "      <th>Other_Sales</th>\n",
              "      <th>Global_Sales</th>\n",
              "    </tr>\n",
              "  </thead>\n",
              "  <tbody>\n",
              "    <tr>\n",
              "      <th>0</th>\n",
              "      <td>14517</td>\n",
              "      <td>313</td>\n",
              "      <td>13</td>\n",
              "      <td>2007.0</td>\n",
              "      <td>11</td>\n",
              "      <td>29</td>\n",
              "      <td>0.00</td>\n",
              "      <td>0.00</td>\n",
              "      <td>0.03</td>\n",
              "      <td>0.00</td>\n",
              "      <td>0.03</td>\n",
              "    </tr>\n",
              "    <tr>\n",
              "      <th>1</th>\n",
              "      <td>6844</td>\n",
              "      <td>680</td>\n",
              "      <td>16</td>\n",
              "      <td>2010.0</td>\n",
              "      <td>10</td>\n",
              "      <td>91</td>\n",
              "      <td>0.00</td>\n",
              "      <td>0.00</td>\n",
              "      <td>0.24</td>\n",
              "      <td>0.00</td>\n",
              "      <td>0.24</td>\n",
              "    </tr>\n",
              "    <tr>\n",
              "      <th>2</th>\n",
              "      <td>4319</td>\n",
              "      <td>904</td>\n",
              "      <td>15</td>\n",
              "      <td>2014.0</td>\n",
              "      <td>1</td>\n",
              "      <td>164</td>\n",
              "      <td>0.12</td>\n",
              "      <td>0.25</td>\n",
              "      <td>0.01</td>\n",
              "      <td>0.08</td>\n",
              "      <td>0.45</td>\n",
              "    </tr>\n",
              "    <tr>\n",
              "      <th>3</th>\n",
              "      <td>13600</td>\n",
              "      <td>222</td>\n",
              "      <td>1</td>\n",
              "      <td>2014.0</td>\n",
              "      <td>0</td>\n",
              "      <td>60</td>\n",
              "      <td>0.00</td>\n",
              "      <td>0.00</td>\n",
              "      <td>0.04</td>\n",
              "      <td>0.00</td>\n",
              "      <td>0.04</td>\n",
              "    </tr>\n",
              "    <tr>\n",
              "      <th>4</th>\n",
              "      <td>13521</td>\n",
              "      <td>171</td>\n",
              "      <td>13</td>\n",
              "      <td>2005.0</td>\n",
              "      <td>1</td>\n",
              "      <td>87</td>\n",
              "      <td>0.00</td>\n",
              "      <td>0.00</td>\n",
              "      <td>0.04</td>\n",
              "      <td>0.00</td>\n",
              "      <td>0.04</td>\n",
              "    </tr>\n",
              "  </tbody>\n",
              "</table>\n",
              "</div>"
            ],
            "text/plain": [
              "    Rank  Name  Platform    Year  ...  EU_Sales  JP_Sales  Other_Sales  Global_Sales\n",
              "0  14517   313        13  2007.0  ...      0.00      0.03         0.00          0.03\n",
              "1   6844   680        16  2010.0  ...      0.00      0.24         0.00          0.24\n",
              "2   4319   904        15  2014.0  ...      0.25      0.01         0.08          0.45\n",
              "3  13600   222         1  2014.0  ...      0.00      0.04         0.00          0.04\n",
              "4  13521   171        13  2005.0  ...      0.00      0.04         0.00          0.04\n",
              "\n",
              "[5 rows x 11 columns]"
            ]
          },
          "metadata": {
            "tags": []
          },
          "execution_count": 57
        }
      ]
    },
    {
      "cell_type": "markdown",
      "metadata": {
        "id": "zw-FsZsmAaWB"
      },
      "source": [
        "####The below heatmap shows the correlation between all the variables including the encoded ones."
      ]
    },
    {
      "cell_type": "code",
      "metadata": {
        "colab": {
          "base_uri": "https://localhost:8080/",
          "height": 815
        },
        "id": "WfKct269LBzU",
        "outputId": "7209e9eb-4fbb-4aec-a33f-15945c01a82a"
      },
      "source": [
        "corr=data.corr()\n",
        "corr = (corr)\n",
        "plt.figure(figsize=(14,14))\n",
        "sns.heatmap(corr, cbar = True,  square = True, annot=True, fmt= '.2f',annot_kws=\n",
        "\n",
        "{'size': 15},\n",
        "            xticklabels=corr.columns.values,\n",
        "            yticklabels=corr.columns.values)"
      ],
      "execution_count": null,
      "outputs": [
        {
          "output_type": "execute_result",
          "data": {
            "text/plain": [
              "<matplotlib.axes._subplots.AxesSubplot at 0x7ffa6aa8eef0>"
            ]
          },
          "metadata": {
            "tags": []
          },
          "execution_count": 58
        },
        {
          "output_type": "display_data",
          "data": {
            "image/png": "[encoded data removed]",
            "text/plain": [
              "<Figure size 1008x1008 with 2 Axes>"
            ]
          },
          "metadata": {
            "tags": [],
            "needs_background": "light"
          }
        }
      ]
    },
    {
      "cell_type": "markdown",
      "metadata": {
        "id": "oENBuC0XCRAI"
      },
      "source": [
        "#### **Splitting of dataset into training and testing in 80-20 ratio**"
      ]
    },
    {
      "cell_type": "code",
      "metadata": {
        "id": "xo1YaiA5Lu9R"
      },
      "source": [
        "from sklearn.model_selection import train_test_split\n",
        "#Dataset without the target variable\n",
        "X = data.drop(columns=['Global_Sales']) \n",
        "\n",
        "#Reshaping the target column into a vector\n",
        "target = data['Global_Sales'] \n",
        "\n",
        "#Split the dataset into train and test set in the ratio 80-20\n",
        "Xtrain, Xtest, Ytrain, Ytest = train_test_split(X, target, test_size=0.2, random_state=2)"
      ],
      "execution_count": null,
      "outputs": []
    },
    {
      "cell_type": "code",
      "metadata": {
        "id": "6DG-dvEpObAv",
        "colab": {
          "base_uri": "https://localhost:8080/",
          "height": 419
        },
        "outputId": "ad5ce04d-d7fa-491a-c745-3f6e5733eb97"
      },
      "source": [
        "Xtrain"
      ],
      "execution_count": null,
      "outputs": [
        {
          "output_type": "execute_result",
          "data": {
            "text/html": [
              "<div>\n",
              "<style scoped>\n",
              "    .dataframe tbody tr th:only-of-type {\n",
              "        vertical-align: middle;\n",
              "    }\n",
              "\n",
              "    .dataframe tbody tr th {\n",
              "        vertical-align: top;\n",
              "    }\n",
              "\n",
              "    .dataframe thead th {\n",
              "        text-align: right;\n",
              "    }\n",
              "</style>\n",
              "<table border=\"1\" class=\"dataframe\">\n",
              "  <thead>\n",
              "    <tr style=\"text-align: right;\">\n",
              "      <th></th>\n",
              "      <th>Rank</th>\n",
              "      <th>Name</th>\n",
              "      <th>Platform</th>\n",
              "      <th>Year</th>\n",
              "      <th>Genre</th>\n",
              "      <th>Publisher</th>\n",
              "      <th>NA_Sales</th>\n",
              "      <th>EU_Sales</th>\n",
              "      <th>JP_Sales</th>\n",
              "      <th>Other_Sales</th>\n",
              "    </tr>\n",
              "  </thead>\n",
              "  <tbody>\n",
              "    <tr>\n",
              "      <th>645</th>\n",
              "      <td>2450</td>\n",
              "      <td>440</td>\n",
              "      <td>1</td>\n",
              "      <td>2016.0</td>\n",
              "      <td>0</td>\n",
              "      <td>115</td>\n",
              "      <td>0.26</td>\n",
              "      <td>0.10</td>\n",
              "      <td>0.44</td>\n",
              "      <td>0.04</td>\n",
              "    </tr>\n",
              "    <tr>\n",
              "      <th>939</th>\n",
              "      <td>14552</td>\n",
              "      <td>658</td>\n",
              "      <td>17</td>\n",
              "      <td>2015.0</td>\n",
              "      <td>0</td>\n",
              "      <td>139</td>\n",
              "      <td>0.00</td>\n",
              "      <td>0.00</td>\n",
              "      <td>0.03</td>\n",
              "      <td>0.00</td>\n",
              "    </tr>\n",
              "    <tr>\n",
              "      <th>70</th>\n",
              "      <td>8629</td>\n",
              "      <td>241</td>\n",
              "      <td>23</td>\n",
              "      <td>2013.0</td>\n",
              "      <td>0</td>\n",
              "      <td>162</td>\n",
              "      <td>0.09</td>\n",
              "      <td>0.05</td>\n",
              "      <td>0.00</td>\n",
              "      <td>0.01</td>\n",
              "    </tr>\n",
              "    <tr>\n",
              "      <th>200</th>\n",
              "      <td>16409</td>\n",
              "      <td>866</td>\n",
              "      <td>11</td>\n",
              "      <td>2014.0</td>\n",
              "      <td>0</td>\n",
              "      <td>11</td>\n",
              "      <td>0.00</td>\n",
              "      <td>0.01</td>\n",
              "      <td>0.00</td>\n",
              "      <td>0.00</td>\n",
              "    </tr>\n",
              "    <tr>\n",
              "      <th>470</th>\n",
              "      <td>5864</td>\n",
              "      <td>274</td>\n",
              "      <td>10</td>\n",
              "      <td>1990.0</td>\n",
              "      <td>10</td>\n",
              "      <td>112</td>\n",
              "      <td>0.00</td>\n",
              "      <td>0.00</td>\n",
              "      <td>0.30</td>\n",
              "      <td>0.00</td>\n",
              "    </tr>\n",
              "    <tr>\n",
              "      <th>...</th>\n",
              "      <td>...</td>\n",
              "      <td>...</td>\n",
              "      <td>...</td>\n",
              "      <td>...</td>\n",
              "      <td>...</td>\n",
              "      <td>...</td>\n",
              "      <td>...</td>\n",
              "      <td>...</td>\n",
              "      <td>...</td>\n",
              "      <td>...</td>\n",
              "    </tr>\n",
              "    <tr>\n",
              "      <th>360</th>\n",
              "      <td>6550</td>\n",
              "      <td>162</td>\n",
              "      <td>6</td>\n",
              "      <td>2003.0</td>\n",
              "      <td>6</td>\n",
              "      <td>174</td>\n",
              "      <td>0.20</td>\n",
              "      <td>0.05</td>\n",
              "      <td>0.00</td>\n",
              "      <td>0.01</td>\n",
              "    </tr>\n",
              "    <tr>\n",
              "      <th>466</th>\n",
              "      <td>3165</td>\n",
              "      <td>610</td>\n",
              "      <td>14</td>\n",
              "      <td>2010.0</td>\n",
              "      <td>7</td>\n",
              "      <td>146</td>\n",
              "      <td>0.17</td>\n",
              "      <td>0.20</td>\n",
              "      <td>0.20</td>\n",
              "      <td>0.07</td>\n",
              "    </tr>\n",
              "    <tr>\n",
              "      <th>299</th>\n",
              "      <td>4254</td>\n",
              "      <td>96</td>\n",
              "      <td>13</td>\n",
              "      <td>2005.0</td>\n",
              "      <td>8</td>\n",
              "      <td>169</td>\n",
              "      <td>0.38</td>\n",
              "      <td>0.01</td>\n",
              "      <td>0.00</td>\n",
              "      <td>0.06</td>\n",
              "    </tr>\n",
              "    <tr>\n",
              "      <th>493</th>\n",
              "      <td>10110</td>\n",
              "      <td>467</td>\n",
              "      <td>3</td>\n",
              "      <td>2010.0</td>\n",
              "      <td>9</td>\n",
              "      <td>42</td>\n",
              "      <td>0.11</td>\n",
              "      <td>0.00</td>\n",
              "      <td>0.00</td>\n",
              "      <td>0.01</td>\n",
              "    </tr>\n",
              "    <tr>\n",
              "      <th>527</th>\n",
              "      <td>13170</td>\n",
              "      <td>144</td>\n",
              "      <td>1</td>\n",
              "      <td>2013.0</td>\n",
              "      <td>7</td>\n",
              "      <td>146</td>\n",
              "      <td>0.00</td>\n",
              "      <td>0.00</td>\n",
              "      <td>0.05</td>\n",
              "      <td>0.00</td>\n",
              "    </tr>\n",
              "  </tbody>\n",
              "</table>\n",
              "<p>853 rows × 10 columns</p>\n",
              "</div>"
            ],
            "text/plain": [
              "      Rank  Name  Platform    Year  ...  NA_Sales  EU_Sales  JP_Sales  Other_Sales\n",
              "645   2450   440         1  2016.0  ...      0.26      0.10      0.44         0.04\n",
              "939  14552   658        17  2015.0  ...      0.00      0.00      0.03         0.00\n",
              "70    8629   241        23  2013.0  ...      0.09      0.05      0.00         0.01\n",
              "200  16409   866        11  2014.0  ...      0.00      0.01      0.00         0.00\n",
              "470   5864   274        10  1990.0  ...      0.00      0.00      0.30         0.00\n",
              "..     ...   ...       ...     ...  ...       ...       ...       ...          ...\n",
              "360   6550   162         6  2003.0  ...      0.20      0.05      0.00         0.01\n",
              "466   3165   610        14  2010.0  ...      0.17      0.20      0.20         0.07\n",
              "299   4254    96        13  2005.0  ...      0.38      0.01      0.00         0.06\n",
              "493  10110   467         3  2010.0  ...      0.11      0.00      0.00         0.01\n",
              "527  13170   144         1  2013.0  ...      0.00      0.00      0.05         0.00\n",
              "\n",
              "[853 rows x 10 columns]"
            ]
          },
          "metadata": {
            "tags": []
          },
          "execution_count": 60
        }
      ]
    },
    {
      "cell_type": "markdown",
      "metadata": {
        "id": "rW0QIVocCrai"
      },
      "source": [
        "The shape of the training and testing dataset."
      ]
    },
    {
      "cell_type": "code",
      "metadata": {
        "id": "bCcF92q0Odi0",
        "colab": {
          "base_uri": "https://localhost:8080/"
        },
        "outputId": "8abb517a-1cb6-4d35-a1c2-686243cd5bcd"
      },
      "source": [
        "print(Xtrain.shape)\n",
        "Xtest.shape"
      ],
      "execution_count": null,
      "outputs": [
        {
          "output_type": "stream",
          "text": [
            "(853, 10)\n"
          ],
          "name": "stdout"
        },
        {
          "output_type": "execute_result",
          "data": {
            "text/plain": [
              "(214, 10)"
            ]
          },
          "metadata": {
            "tags": []
          },
          "execution_count": 60
        }
      ]
    },
    {
      "cell_type": "markdown",
      "metadata": {
        "id": "4SMNtxU0Dgvi"
      },
      "source": [
        "#**Extreme Gradient Boosting(XGBoost)**"
      ]
    },
    {
      "cell_type": "markdown",
      "metadata": {
        "id": "SEelBGgRD9VB"
      },
      "source": [
        "####We are training a model on a dataset and used for the prediction. Boosting takes an iterative approach to train the models in succession, with each new model being trained to correct the errors made by previous one."
      ]
    },
    {
      "cell_type": "code",
      "metadata": {
        "id": "_bSkmdFDPPbt"
      },
      "source": [
        "import xgboost as xg\n",
        "from sklearn.model_selection import KFold, train_test_split, GridSearchCV"
      ],
      "execution_count": null,
      "outputs": []
    },
    {
      "cell_type": "markdown",
      "metadata": {
        "id": "s6Zep4kbFDn8"
      },
      "source": [
        "####We can define the parameters of our gradient boosting ensemble. We’ve set up some of the most important ones below to get us started."
      ]
    },
    {
      "cell_type": "code",
      "metadata": {
        "id": "QnAsTeilPrsA"
      },
      "source": [
        "xg_para = {\n",
        "    'eta': 0.01,\n",
        "    'max_depth': 5, #maximum depth of the decision trees being trained\n",
        "    'subsample': 0.6,\n",
        "    'colsample_bytree': 0.7, #range 0.5 to 0.9 \n",
        "    'objective': 'reg:linear', #the loss function being used\n",
        "    'eval_metric': 'rmse',\n",
        "    'silent': 1\n",
        "}"
      ],
      "execution_count": null,
      "outputs": []
    },
    {
      "cell_type": "markdown",
      "metadata": {
        "id": "9Zymvf2qErPI"
      },
      "source": [
        "####In order for XGBoost to be able to use our data, we’ll need to transform it into a specific format that XGBoost can handle. That format is called DMatrix."
      ]
    },
    {
      "cell_type": "code",
      "metadata": {
        "id": "5sNKItzWP2lL"
      },
      "source": [
        "train_data = xg.DMatrix(Xtrain, Ytrain)"
      ],
      "execution_count": null,
      "outputs": []
    },
    {
      "cell_type": "code",
      "metadata": {
        "colab": {
          "base_uri": "https://localhost:8080/"
        },
        "id": "zyWzQj2ORpdm",
        "outputId": "f5ace57f-5755-487f-d822-9282df0e516a"
      },
      "source": [
        "cv_output = xg.cv(xg_para, train_data, num_boost_round=1000, early_stopping_rounds=20, verbose_eval=50, show_stdv=False) \n",
        "#early_stopping_rounds is used to avoid overfitting : It works by monitoring the performance of the model that is being trained \n",
        "#on a separate test dataset and stopping the training procedure once the performance on the test dataset has not improved after a fixed number of training iterations."
      ],
      "execution_count": null,
      "outputs": [
        {
          "output_type": "stream",
          "text": [
            "[0]\ttrain-rmse:1.3079\ttest-rmse:1.26563\n",
            "[50]\ttrain-rmse:0.945655\ttest-rmse:0.944204\n",
            "[100]\ttrain-rmse:0.702127\ttest-rmse:0.741258\n",
            "[150]\ttrain-rmse:0.533555\ttest-rmse:0.609394\n",
            "[200]\ttrain-rmse:0.419094\ttest-rmse:0.517964\n",
            "[250]\ttrain-rmse:0.339274\ttest-rmse:0.460965\n",
            "[300]\ttrain-rmse:0.282967\ttest-rmse:0.426893\n",
            "[350]\ttrain-rmse:0.235782\ttest-rmse:0.400716\n",
            "[400]\ttrain-rmse:0.199641\ttest-rmse:0.384396\n",
            "[450]\ttrain-rmse:0.16874\ttest-rmse:0.373939\n",
            "[500]\ttrain-rmse:0.148114\ttest-rmse:0.365999\n",
            "[550]\ttrain-rmse:0.128052\ttest-rmse:0.359541\n",
            "[600]\ttrain-rmse:0.110836\ttest-rmse:0.354433\n",
            "[650]\ttrain-rmse:0.0953747\ttest-rmse:0.352494\n",
            "[700]\ttrain-rmse:0.0841333\ttest-rmse:0.349878\n",
            "[750]\ttrain-rmse:0.0717983\ttest-rmse:0.347579\n",
            "[800]\ttrain-rmse:0.0633817\ttest-rmse:0.346303\n",
            "[850]\ttrain-rmse:0.0566127\ttest-rmse:0.345313\n",
            "[900]\ttrain-rmse:0.050154\ttest-rmse:0.344691\n",
            "[950]\ttrain-rmse:0.044522\ttest-rmse:0.344091\n",
            "[999]\ttrain-rmse:0.0403453\ttest-rmse:0.343375\n"
          ],
          "name": "stdout"
        }
      ]
    },
    {
      "cell_type": "code",
      "metadata": {
        "id": "-waeiyRUTcih"
      },
      "source": [
        "#all 1000 rounds were executed"
      ],
      "execution_count": null,
      "outputs": []
    },
    {
      "cell_type": "code",
      "metadata": {
        "colab": {
          "base_uri": "https://localhost:8080/"
        },
        "id": "xVnh-dXcTKG7",
        "outputId": "c7d8a04f-3689-43c0-afc1-59e9e9fd8691"
      },
      "source": [
        "len(cv_output)"
      ],
      "execution_count": null,
      "outputs": [
        {
          "output_type": "execute_result",
          "data": {
            "text/plain": [
              "1000"
            ]
          },
          "metadata": {
            "tags": []
          },
          "execution_count": 67
        }
      ]
    },
    {
      "cell_type": "markdown",
      "metadata": {
        "id": "kRw2ePObFnGs"
      },
      "source": [
        "#**Modeling of data using XGBoost**"
      ]
    },
    {
      "cell_type": "markdown",
      "metadata": {
        "id": "PJbRH4CpF4vm"
      },
      "source": [
        "####We fit our model with training data."
      ]
    },
    {
      "cell_type": "code",
      "metadata": {
        "colab": {
          "base_uri": "https://localhost:8080/"
        },
        "id": "VNj_yHbmTWKV",
        "outputId": "d10720c0-9098-4da8-d679-1ec6fdb3e93a"
      },
      "source": [
        "model = xg.train(dict(xg_para, silent=0), train_data, num_boost_round= 1000)"
      ],
      "execution_count": null,
      "outputs": [
        {
          "output_type": "stream",
          "text": [
            "[09:09:53] WARNING: /workspace/src/objective/regression_obj.cu:152: reg:linear is now deprecated in favor of reg:squarederror.\n"
          ],
          "name": "stdout"
        }
      ]
    },
    {
      "cell_type": "code",
      "metadata": {
        "colab": {
          "base_uri": "https://localhost:8080/",
          "height": 638
        },
        "id": "fDwTjf7WT2eL",
        "outputId": "c0e447c0-d4fa-4e1d-8520-f67e51615bf3"
      },
      "source": [
        "fig, ax = plt.subplots(1, 1, figsize=(10, 10)\n",
        ")\n",
        "xg.plot_importance(model, max_num_features=10, height=0.5, ax=ax)"
      ],
      "execution_count": null,
      "outputs": [
        {
          "output_type": "execute_result",
          "data": {
            "text/plain": [
              "<matplotlib.axes._subplots.AxesSubplot at 0x7ffa6a89e8d0>"
            ]
          },
          "metadata": {
            "tags": []
          },
          "execution_count": 67
        },
        {
          "output_type": "display_data",
          "data": {
            "image/png": "[encoded data removed]",
            "text/plain": [
              "<Figure size 720x720 with 1 Axes>"
            ]
          },
          "metadata": {
            "tags": [],
            "needs_background": "light"
          }
        }
      ]
    },
    {
      "cell_type": "markdown",
      "metadata": {
        "id": "QEIkZT3XGgTd"
      },
      "source": [
        "####We can examine the relative importance attributed to each feature, in determining the Global_Sales."
      ]
    },
    {
      "cell_type": "code",
      "metadata": {
        "id": "SJyV4oQRUWxn"
      },
      "source": [
        "test_data = xg.DMatrix(Xtest, Ytest)"
      ],
      "execution_count": null,
      "outputs": []
    },
    {
      "cell_type": "markdown",
      "metadata": {
        "id": "FoeaU6raG1ia"
      },
      "source": [
        "####Finally we use our model to predict the sales."
      ]
    },
    {
      "cell_type": "code",
      "metadata": {
        "colab": {
          "base_uri": "https://localhost:8080/",
          "height": 195
        },
        "id": "cFGWgNZVU2eo",
        "outputId": "863ab19d-af26-4099-9965-5bd70d5110ac"
      },
      "source": [
        "tgt = model.predict(test_data)\n",
        "res = pd.DataFrame({'Actual_Global_Sales': Ytest, 'Predicted_Global_Sales':\n",
        "                    tgt,'Diff' :(Ytest-tgt)})\n",
        "res[['Actual_Global_Sales','Predicted_Global_Sales','Diff']].head(5)"
      ],
      "execution_count": null,
      "outputs": [
        {
          "output_type": "execute_result",
          "data": {
            "text/html": [
              "<div>\n",
              "<style scoped>\n",
              "    .dataframe tbody tr th:only-of-type {\n",
              "        vertical-align: middle;\n",
              "    }\n",
              "\n",
              "    .dataframe tbody tr th {\n",
              "        vertical-align: top;\n",
              "    }\n",
              "\n",
              "    .dataframe thead th {\n",
              "        text-align: right;\n",
              "    }\n",
              "</style>\n",
              "<table border=\"1\" class=\"dataframe\">\n",
              "  <thead>\n",
              "    <tr style=\"text-align: right;\">\n",
              "      <th></th>\n",
              "      <th>Actual_Global_Sales</th>\n",
              "      <th>Predicted_Global_Sales</th>\n",
              "      <th>Diff</th>\n",
              "    </tr>\n",
              "  </thead>\n",
              "  <tbody>\n",
              "    <tr>\n",
              "      <th>455</th>\n",
              "      <td>0.42</td>\n",
              "      <td>0.434980</td>\n",
              "      <td>-0.014980</td>\n",
              "    </tr>\n",
              "    <tr>\n",
              "      <th>954</th>\n",
              "      <td>0.06</td>\n",
              "      <td>0.060431</td>\n",
              "      <td>-0.000431</td>\n",
              "    </tr>\n",
              "    <tr>\n",
              "      <th>738</th>\n",
              "      <td>2.32</td>\n",
              "      <td>2.347617</td>\n",
              "      <td>-0.027617</td>\n",
              "    </tr>\n",
              "    <tr>\n",
              "      <th>913</th>\n",
              "      <td>0.13</td>\n",
              "      <td>0.132724</td>\n",
              "      <td>-0.002724</td>\n",
              "    </tr>\n",
              "    <tr>\n",
              "      <th>702</th>\n",
              "      <td>0.67</td>\n",
              "      <td>0.665667</td>\n",
              "      <td>0.004333</td>\n",
              "    </tr>\n",
              "  </tbody>\n",
              "</table>\n",
              "</div>"
            ],
            "text/plain": [
              "     Actual_Global_Sales  Predicted_Global_Sales      Diff\n",
              "455                 0.42                0.434980 -0.014980\n",
              "954                 0.06                0.060431 -0.000431\n",
              "738                 2.32                2.347617 -0.027617\n",
              "913                 0.13                0.132724 -0.002724\n",
              "702                 0.67                0.665667  0.004333"
            ]
          },
          "metadata": {
            "tags": []
          },
          "execution_count": 69
        }
      ]
    },
    {
      "cell_type": "markdown",
      "metadata": {
        "id": "8_HpQSCrG83E"
      },
      "source": [
        "##**Evaluating the model using**\n",
        "####We use the Root mean squared Error to evaluate the model performance."
      ]
    },
    {
      "cell_type": "code",
      "metadata": {
        "colab": {
          "base_uri": "https://localhost:8080/"
        },
        "id": "EQgeEVmzZPTc",
        "outputId": "5bd79c70-4a37-4a75-a2d3-229038b2f6c0"
      },
      "source": [
        "from sklearn.metrics import accuracy_score\n",
        "#print(np.array(Ytest)\n",
        "pred = [round(value) for value in tgt]\n",
        "ytest = [round(value) for value in Ytest]\n",
        "accuracy = accuracy_score(ytest,pred)\n",
        " \n",
        "print(accuracy*100.0) "
      ],
      "execution_count": null,
      "outputs": [
        {
          "output_type": "stream",
          "text": [
            "99.53271028037383\n"
          ],
          "name": "stdout"
        }
      ]
    },
    {
      "cell_type": "markdown",
      "metadata": {
        "id": "AiVoo15YIBa_"
      },
      "source": [
        "###**Residual plot**"
      ]
    },
    {
      "cell_type": "code",
      "metadata": {
        "id": "2-YRMQ3zVXYD",
        "colab": {
          "base_uri": "https://localhost:8080/",
          "height": 350
        },
        "outputId": "a2a18223-111e-4b5b-d7d1-8b03775eba9b"
      },
      "source": [
        "sns.regplot(res['Predicted_Global_Sales'],res['Diff'])"
      ],
      "execution_count": null,
      "outputs": [
        {
          "output_type": "stream",
          "text": [
            "/usr/local/lib/python3.6/dist-packages/seaborn/_decorators.py:43: FutureWarning: Pass the following variables as keyword args: x, y. From version 0.12, the only valid positional argument will be `data`, and passing other arguments without an explicit keyword will result in an error or misinterpretation.\n",
            "  FutureWarning\n"
          ],
          "name": "stderr"
        },
        {
          "output_type": "execute_result",
          "data": {
            "text/plain": [
              "<matplotlib.axes._subplots.AxesSubplot at 0x7ffa6a89e828>"
            ]
          },
          "metadata": {
            "tags": []
          },
          "execution_count": 71
        },
        {
          "output_type": "display_data",
          "data": {
            "image/png": "[encoded data removed]",
            "text/plain": [
              "<Figure size 432x288 with 1 Axes>"
            ]
          },
          "metadata": {
            "tags": [],
            "needs_background": "light"
          }
        }
      ]
    },
    {
      "cell_type": "markdown",
      "metadata": {
        "id": "UdIuOXdxIIih"
      },
      "source": [
        "###**Linear Regression modeling with all variables**"
      ]
    },
    {
      "cell_type": "code",
      "metadata": {
        "colab": {
          "base_uri": "https://localhost:8080/"
        },
        "id": "twy4UIWSYjl5",
        "outputId": "7dc48aa7-8b4f-4cde-b9fc-27401b38cc12"
      },
      "source": [
        "from sklearn.linear_model import LinearRegression\n",
        "lr = LinearRegression()\n",
        "lr.fit(Xtrain, Ytrain)\n",
        "lr_score_train = lr.score(Xtrain, Ytrain\n",
        "                          )\n",
        "print(\"Training score: \",lr_score_train)\n",
        "lr_score_test = lr.score(Xtest, Ytest)\n",
        "print(\"Testing score: \",lr_score_test)"
      ],
      "execution_count": null,
      "outputs": [
        {
          "output_type": "stream",
          "text": [
            "Training score:  0.9999859314466547\n",
            "Testing score:  0.9999717792715515\n"
          ],
          "name": "stdout"
        }
      ]
    },
    {
      "cell_type": "markdown",
      "metadata": {
        "id": "Ds0f8ZkZnx6o"
      },
      "source": [
        "##**Linear Regression modelling with the most influential variables with respect to PCA**\n",
        "\n"
      ]
    },
    {
      "cell_type": "code",
      "metadata": {
        "colab": {
          "base_uri": "https://localhost:8080/",
          "height": 402
        },
        "id": "q4muerWymsjl",
        "outputId": "d9a31c6c-2fdf-491d-886c-3826980e9692"
      },
      "source": [
        "variables =['Platform','Year','Genre','Publisher','NA_Sales','EU_Sales','JP_Sales','Other_Sales']\n",
        "x = data.loc[:, variables].values\n",
        "y = data.loc[:,['Global_Sales']].values\n",
        "x = StandardScaler().fit_transform(x)\n",
        "x = pd.DataFrame(x)\n",
        "x"
      ],
      "execution_count": null,
      "outputs": [
        {
          "output_type": "execute_result",
          "data": {
            "text/html": [
              "<div>\n",
              "<style scoped>\n",
              "    .dataframe tbody tr th:only-of-type {\n",
              "        vertical-align: middle;\n",
              "    }\n",
              "\n",
              "    .dataframe tbody tr th {\n",
              "        vertical-align: top;\n",
              "    }\n",
              "\n",
              "    .dataframe thead th {\n",
              "        text-align: right;\n",
              "    }\n",
              "</style>\n",
              "<table border=\"1\" class=\"dataframe\">\n",
              "  <thead>\n",
              "    <tr style=\"text-align: right;\">\n",
              "      <th></th>\n",
              "      <th>0</th>\n",
              "      <th>1</th>\n",
              "      <th>2</th>\n",
              "      <th>3</th>\n",
              "      <th>4</th>\n",
              "      <th>5</th>\n",
              "      <th>6</th>\n",
              "      <th>7</th>\n",
              "    </tr>\n",
              "  </thead>\n",
              "  <tbody>\n",
              "    <tr>\n",
              "      <th>0</th>\n",
              "      <td>-0.001232</td>\n",
              "      <td>0.103682</td>\n",
              "      <td>1.581130</td>\n",
              "      <td>-1.179071</td>\n",
              "      <td>-0.435276</td>\n",
              "      <td>-0.366831</td>\n",
              "      <td>-0.151751</td>\n",
              "      <td>-0.366794</td>\n",
              "    </tr>\n",
              "    <tr>\n",
              "      <th>1</th>\n",
              "      <td>0.437054</td>\n",
              "      <td>0.621442</td>\n",
              "      <td>1.315826</td>\n",
              "      <td>-0.061300</td>\n",
              "      <td>-0.435276</td>\n",
              "      <td>-0.366831</td>\n",
              "      <td>0.464802</td>\n",
              "      <td>-0.366794</td>\n",
              "    </tr>\n",
              "    <tr>\n",
              "      <th>2</th>\n",
              "      <td>0.290959</td>\n",
              "      <td>1.311790</td>\n",
              "      <td>-1.071906</td>\n",
              "      <td>1.254784</td>\n",
              "      <td>-0.239853</td>\n",
              "      <td>0.214584</td>\n",
              "      <td>-0.210471</td>\n",
              "      <td>0.204027</td>\n",
              "    </tr>\n",
              "    <tr>\n",
              "      <th>3</th>\n",
              "      <td>-1.754377</td>\n",
              "      <td>1.311790</td>\n",
              "      <td>-1.337210</td>\n",
              "      <td>-0.620186</td>\n",
              "      <td>-0.435276</td>\n",
              "      <td>-0.366831</td>\n",
              "      <td>-0.122392</td>\n",
              "      <td>-0.366794</td>\n",
              "    </tr>\n",
              "    <tr>\n",
              "      <th>4</th>\n",
              "      <td>-0.001232</td>\n",
              "      <td>-0.241492</td>\n",
              "      <td>-1.071906</td>\n",
              "      <td>-0.133415</td>\n",
              "      <td>-0.435276</td>\n",
              "      <td>-0.366831</td>\n",
              "      <td>-0.122392</td>\n",
              "      <td>-0.366794</td>\n",
              "    </tr>\n",
              "    <tr>\n",
              "      <th>...</th>\n",
              "      <td>...</td>\n",
              "      <td>...</td>\n",
              "      <td>...</td>\n",
              "      <td>...</td>\n",
              "      <td>...</td>\n",
              "      <td>...</td>\n",
              "      <td>...</td>\n",
              "      <td>...</td>\n",
              "    </tr>\n",
              "    <tr>\n",
              "      <th>1062</th>\n",
              "      <td>1.167531</td>\n",
              "      <td>0.794029</td>\n",
              "      <td>-0.541299</td>\n",
              "      <td>-1.503585</td>\n",
              "      <td>-0.190997</td>\n",
              "      <td>-0.320318</td>\n",
              "      <td>-0.239831</td>\n",
              "      <td>-0.295442</td>\n",
              "    </tr>\n",
              "    <tr>\n",
              "      <th>1063</th>\n",
              "      <td>1.459722</td>\n",
              "      <td>0.794029</td>\n",
              "      <td>-1.337210</td>\n",
              "      <td>-0.890614</td>\n",
              "      <td>0.167279</td>\n",
              "      <td>-0.017982</td>\n",
              "      <td>-0.239831</td>\n",
              "      <td>-0.010031</td>\n",
              "    </tr>\n",
              "    <tr>\n",
              "      <th>1064</th>\n",
              "      <td>-0.001232</td>\n",
              "      <td>-0.586666</td>\n",
              "      <td>0.519915</td>\n",
              "      <td>-1.341328</td>\n",
              "      <td>-0.288709</td>\n",
              "      <td>-0.204035</td>\n",
              "      <td>-0.239831</td>\n",
              "      <td>-0.224089</td>\n",
              "    </tr>\n",
              "    <tr>\n",
              "      <th>1065</th>\n",
              "      <td>1.167531</td>\n",
              "      <td>0.966616</td>\n",
              "      <td>-1.337210</td>\n",
              "      <td>-1.503585</td>\n",
              "      <td>-0.256138</td>\n",
              "      <td>-0.273805</td>\n",
              "      <td>-0.239831</td>\n",
              "      <td>-0.295442</td>\n",
              "    </tr>\n",
              "    <tr>\n",
              "      <th>1066</th>\n",
              "      <td>1.167531</td>\n",
              "      <td>0.276268</td>\n",
              "      <td>0.785219</td>\n",
              "      <td>-0.800471</td>\n",
              "      <td>1.062969</td>\n",
              "      <td>-0.157522</td>\n",
              "      <td>-0.239831</td>\n",
              "      <td>0.275380</td>\n",
              "    </tr>\n",
              "  </tbody>\n",
              "</table>\n",
              "<p>1067 rows × 8 columns</p>\n",
              "</div>"
            ],
            "text/plain": [
              "             0         1         2  ...         5         6         7\n",
              "0    -0.001232  0.103682  1.581130  ... -0.366831 -0.151751 -0.366794\n",
              "1     0.437054  0.621442  1.315826  ... -0.366831  0.464802 -0.366794\n",
              "2     0.290959  1.311790 -1.071906  ...  0.214584 -0.210471  0.204027\n",
              "3    -1.754377  1.311790 -1.337210  ... -0.366831 -0.122392 -0.366794\n",
              "4    -0.001232 -0.241492 -1.071906  ... -0.366831 -0.122392 -0.366794\n",
              "...        ...       ...       ...  ...       ...       ...       ...\n",
              "1062  1.167531  0.794029 -0.541299  ... -0.320318 -0.239831 -0.295442\n",
              "1063  1.459722  0.794029 -1.337210  ... -0.017982 -0.239831 -0.010031\n",
              "1064 -0.001232 -0.586666  0.519915  ... -0.204035 -0.239831 -0.224089\n",
              "1065  1.167531  0.966616 -1.337210  ... -0.273805 -0.239831 -0.295442\n",
              "1066  1.167531  0.276268  0.785219  ... -0.157522 -0.239831  0.275380\n",
              "\n",
              "[1067 rows x 8 columns]"
            ]
          },
          "metadata": {
            "tags": []
          },
          "execution_count": 73
        }
      ]
    },
    {
      "cell_type": "markdown",
      "metadata": {
        "id": "GCjxB_s8IxWu"
      },
      "source": [
        "####**Finding Influential variables using PCA**"
      ]
    },
    {
      "cell_type": "code",
      "metadata": {
        "colab": {
          "base_uri": "https://localhost:8080/",
          "height": 402
        },
        "id": "P-644OykoIK3",
        "outputId": "dc620baa-3d12-47b8-eb78-6b951432a3f0"
      },
      "source": [
        "pca = PCA(n_components=3)\n",
        "principalComponents = pca.fit_transform(x)\n",
        "principalDf = pd.DataFrame(data = principalComponents, columns = ['principal component 1', 'principal component 2', 'principal component 3'])\n",
        "principalDf\n",
        "\n",
        "# pca = PCA()\n",
        "# data_pca = pca.fit_transform(x)\n",
        "# data_pca = pd.DataFrame(data_pca)\n",
        "# data_pca.head()"
      ],
      "execution_count": null,
      "outputs": [
        {
          "output_type": "execute_result",
          "data": {
            "text/html": [
              "<div>\n",
              "<style scoped>\n",
              "    .dataframe tbody tr th:only-of-type {\n",
              "        vertical-align: middle;\n",
              "    }\n",
              "\n",
              "    .dataframe tbody tr th {\n",
              "        vertical-align: top;\n",
              "    }\n",
              "\n",
              "    .dataframe thead th {\n",
              "        text-align: right;\n",
              "    }\n",
              "</style>\n",
              "<table border=\"1\" class=\"dataframe\">\n",
              "  <thead>\n",
              "    <tr style=\"text-align: right;\">\n",
              "      <th></th>\n",
              "      <th>principal component 1</th>\n",
              "      <th>principal component 2</th>\n",
              "      <th>principal component 3</th>\n",
              "    </tr>\n",
              "  </thead>\n",
              "  <tbody>\n",
              "    <tr>\n",
              "      <th>0</th>\n",
              "      <td>-0.701074</td>\n",
              "      <td>1.028666</td>\n",
              "      <td>-1.469247</td>\n",
              "    </tr>\n",
              "    <tr>\n",
              "      <th>1</th>\n",
              "      <td>-0.493155</td>\n",
              "      <td>0.213880</td>\n",
              "      <td>-0.834533</td>\n",
              "    </tr>\n",
              "    <tr>\n",
              "      <th>2</th>\n",
              "      <td>-0.097826</td>\n",
              "      <td>-1.903023</td>\n",
              "      <td>0.942685</td>\n",
              "    </tr>\n",
              "    <tr>\n",
              "      <th>3</th>\n",
              "      <td>-0.773156</td>\n",
              "      <td>-0.380106</td>\n",
              "      <td>1.264980</td>\n",
              "    </tr>\n",
              "    <tr>\n",
              "      <th>4</th>\n",
              "      <td>-0.657968</td>\n",
              "      <td>-0.196578</td>\n",
              "      <td>0.548596</td>\n",
              "    </tr>\n",
              "    <tr>\n",
              "      <th>...</th>\n",
              "      <td>...</td>\n",
              "      <td>...</td>\n",
              "      <td>...</td>\n",
              "    </tr>\n",
              "    <tr>\n",
              "      <th>1062</th>\n",
              "      <td>-0.644421</td>\n",
              "      <td>-0.833585</td>\n",
              "      <td>-1.316515</td>\n",
              "    </tr>\n",
              "    <tr>\n",
              "      <th>1063</th>\n",
              "      <td>-0.139823</td>\n",
              "      <td>-1.572543</td>\n",
              "      <td>-0.774455</td>\n",
              "    </tr>\n",
              "    <tr>\n",
              "      <th>1064</th>\n",
              "      <td>-0.447906</td>\n",
              "      <td>0.985882</td>\n",
              "      <td>-1.010834</td>\n",
              "    </tr>\n",
              "    <tr>\n",
              "      <th>1065</th>\n",
              "      <td>-0.676315</td>\n",
              "      <td>-1.298300</td>\n",
              "      <td>-0.921207</td>\n",
              "    </tr>\n",
              "    <tr>\n",
              "      <th>1066</th>\n",
              "      <td>0.487488</td>\n",
              "      <td>-0.251512</td>\n",
              "      <td>-1.654711</td>\n",
              "    </tr>\n",
              "  </tbody>\n",
              "</table>\n",
              "<p>1067 rows × 3 columns</p>\n",
              "</div>"
            ],
            "text/plain": [
              "      principal component 1  principal component 2  principal component 3\n",
              "0                 -0.701074               1.028666              -1.469247\n",
              "1                 -0.493155               0.213880              -0.834533\n",
              "2                 -0.097826              -1.903023               0.942685\n",
              "3                 -0.773156              -0.380106               1.264980\n",
              "4                 -0.657968              -0.196578               0.548596\n",
              "...                     ...                    ...                    ...\n",
              "1062              -0.644421              -0.833585              -1.316515\n",
              "1063              -0.139823              -1.572543              -0.774455\n",
              "1064              -0.447906               0.985882              -1.010834\n",
              "1065              -0.676315              -1.298300              -0.921207\n",
              "1066               0.487488              -0.251512              -1.654711\n",
              "\n",
              "[1067 rows x 3 columns]"
            ]
          },
          "metadata": {
            "tags": []
          },
          "execution_count": 74
        }
      ]
    },
    {
      "cell_type": "code",
      "metadata": {
        "id": "cawFTrG8puln"
      },
      "source": [
        ""
      ],
      "execution_count": null,
      "outputs": []
    },
    {
      "cell_type": "code",
      "metadata": {
        "colab": {
          "base_uri": "https://localhost:8080/"
        },
        "id": "77oNLtZXrrK9",
        "outputId": "badb0ce1-1593-45ed-a9bf-71a13a875899"
      },
      "source": [
        "explained_var = pca.explained_variance_ratio_\n",
        "explained_var #62.03% "
      ],
      "execution_count": null,
      "outputs": [
        {
          "output_type": "execute_result",
          "data": {
            "text/plain": [
              "array([0.32209809, 0.16692741, 0.13136458])"
            ]
          },
          "metadata": {
            "tags": []
          },
          "execution_count": 75
        }
      ]
    },
    {
      "cell_type": "markdown",
      "metadata": {
        "id": "y0c-GH-hI9Ti"
      },
      "source": [
        ""
      ]
    },
    {
      "cell_type": "code",
      "metadata": {
        "id": "UDgBhEeVodWE"
      },
      "source": [
        "from sklearn.model_selection import train_test_split\n",
        "#Dataset without the target variable\n",
        "#X = data.drop(columns=['Global_Sales']) \n",
        "X=principalDf[['principal component 1', 'principal component 2', 'principal component 3']]\n",
        "\n",
        "#Reshaping the target column into a vector\n",
        "target = data['Global_Sales'] \n",
        "\n",
        "#Split the dataset into train and test set in the ratio 80-20\n",
        "Xtrain, Xtest, Ytrain, Ytest = train_test_split(X, target, test_size=0.2, random_state=2)"
      ],
      "execution_count": null,
      "outputs": []
    },
    {
      "cell_type": "code",
      "metadata": {
        "colab": {
          "base_uri": "https://localhost:8080/"
        },
        "id": "LHKWWbbBqkHd",
        "outputId": "be0dc9d6-94d7-4c24-ff26-d310fcc5fda6"
      },
      "source": [
        "from sklearn.linear_model import LinearRegression\n",
        "lr = LinearRegression()\n",
        "lr.fit(Xtrain, Ytrain)\n",
        "lr_score_train = lr.score(Xtrain, Ytrain\n",
        "                          )\n",
        "print(\"Training score: \",lr_score_train)\n",
        "lr_score_test = lr.score(Xtest, Ytest)\n",
        "print(\"Testing score: \",lr_score_test)"
      ],
      "execution_count": null,
      "outputs": [
        {
          "output_type": "stream",
          "text": [
            "Training score:  0.9775207528893327\n",
            "Testing score:  0.9494617273477173\n"
          ],
          "name": "stdout"
        }
      ]
    },
    {
      "cell_type": "code",
      "metadata": {
        "id": "ALA6Zt7ZqrrJ"
      },
      "source": [
        ""
      ],
      "execution_count": null,
      "outputs": []
    }
  ]
}